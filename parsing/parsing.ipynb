{
 "cells": [
  {
   "cell_type": "markdown",
   "id": "250c141cb23c7dc6",
   "metadata": {},
   "source": [
    "Imports"
   ]
  },
  {
   "cell_type": "code",
   "id": "dea8b3fd-f2fc-4512-be70-afc9616a4bba",
   "metadata": {},
   "source": [
    "!pip install boto3"
   ],
   "outputs": [],
   "execution_count": null
  },
  {
   "cell_type": "code",
   "id": "67cb9cfe-94dd-42a0-9425-0fcd441bc6bf",
   "metadata": {},
   "source": [
    "import os\n",
    "import json\n",
    "import re\n",
    "from datetime import datetime\n",
    "from bs4 import BeautifulSoup\n",
    "from io import BytesIO\n",
    "import boto3\n",
    "from pyspark.sql import SparkSession"
   ],
   "outputs": [],
   "execution_count": null
  },
  {
   "cell_type": "markdown",
   "id": "0b7e8cb1-720a-4847-b316-6c8844073e08",
   "metadata": {},
   "source": [
    "# Connection to MinIO"
   ]
  },
  {
   "cell_type": "code",
   "id": "896b25ac-2f71-4069-904c-404e9925d852",
   "metadata": {},
   "source": [
    "spark = SparkSession.builder \\\n",
    "    .appName(\"PySpark Access Logs Minio\") \\\n",
    "    .master(\"spark://localhost:7077\") \\\n",
    "    .config(\"spark.hadoop.fs.s3a.endpoint\", \"http://172.29.16.105:9000\") \\\n",
    "    .config(\"spark.hadoop.fs.s3a.access.key\", \"bdenggroup3\") \\\n",
    "    .config(\"spark.hadoop.fs.s3a.secret.key\", \"bdenggroup3\") \\\n",
    "    .config(\"spark.hadoop.fs.s3a.path.style.access\", \"true\") \\\n",
    "    .config(\"spark.hadoop.fs.s3a.impl\", \"org.apache.hadoop.fs.s3a.S3AFileSystem\") \\\n",
    "    .getOrCreate()"
   ],
   "outputs": [],
   "execution_count": null
  },
  {
   "cell_type": "markdown",
   "id": "b3dda608-3059-4e73-97dc-2195d221c8ba",
   "metadata": {},
   "source": [
    "# Parser"
   ]
  },
  {
   "cell_type": "markdown",
   "id": "e631fd810367a2a2",
   "metadata": {},
   "source": [
    "## HTML Extraction Helper\n",
    "fool"
   ]
  },
  {
   "cell_type": "code",
   "id": "e1e216b6df83264d",
   "metadata": {},
   "source": [
    "def extract_fool_article_text(html: str) -> str:\n",
    "    soup = BeautifulSoup(html, 'html.parser')\n",
    "    article_body = soup.find(\"div\", class_=\"article-body\")\n",
    "    if article_body:\n",
    "        tags = article_body.find_all(['p', 'h2'])\n",
    "        flat_text = ' '.join(tag.get_text(strip=True) for tag in tags)\n",
    "        return re.sub(r'\\s+', ' ', flat_text).strip()\n",
    "    return \"\"\n"
   ],
   "outputs": [],
   "execution_count": null
  },
  {
   "cell_type": "markdown",
   "id": "545484063999d890",
   "metadata": {},
   "source": [
    "benzinga"
   ]
  },
  {
   "cell_type": "code",
   "id": "c97619db90725a76",
   "metadata": {},
   "source": [
    "def extract_benzinga_article_text(html: str) -> str:\n",
    "    soup = BeautifulSoup(html, 'html.parser')\n",
    "    article_body = soup.find(\"div\", id=\"article-body\")\n",
    "    if article_body:\n",
    "        tags = article_body.find_all(['p', 'h2', 'li'])\n",
    "        flat_text = ' '.join(tag.get_text(strip=True) for tag in tags)\n",
    "        return re.sub(r'\\s+', ' ', flat_text).strip()\n",
    "    return \"\""
   ],
   "outputs": [],
   "execution_count": null
  },
  {
   "cell_type": "markdown",
   "id": "ef98d79e-8ee9-4ad3-a030-80517005c9eb",
   "metadata": {},
   "source": [
    "zacks"
   ]
  },
  {
   "cell_type": "code",
   "id": "8fb6648d-0ec5-4bb7-bb49-c5f57c0d2a95",
   "metadata": {},
   "source": [
    "def extract_zacks_article_text(html: str) -> str:\n",
    "    soup = BeautifulSoup(html, 'html.parser')\n",
    "    article_body = soup.find(\"div\", id=\"comtext\")\n",
    "\n",
    "    if article_body:\n",
    "        tags = article_body.find_all(['p', 'h2', 'li'])\n",
    "        flat_text = ' '.join(tag.get_text(strip=True) for tag in tags)\n",
    "        flat_text = re.sub(r'-{5,}.*?-{5,}', '', flat_text)  # Remove ad block content\n",
    "        return re.sub(r'\\s+', ' ', flat_text).strip()\n",
    "\n",
    "    return \"\"\n"
   ],
   "outputs": [],
   "execution_count": null
  },
  {
   "cell_type": "markdown",
   "id": "39c88985a4580e31",
   "metadata": {},
   "source": [
    "dynamic dispatcher\n"
   ]
  },
  {
   "cell_type": "code",
   "id": "d0e1ea041517fa79",
   "metadata": {},
   "source": [
    "def extract_article_text_by_source(url: str, html: str) -> str:\n",
    "    if \"fool.com\" in url:\n",
    "        return extract_fool_article_text(html)\n",
    "    elif \"benzinga.com\" in url:\n",
    "        return extract_benzinga_article_text(html)\n",
    "    elif \"zacks.com\" in url:\n",
    "        return extract_zacks_article_text(html)\n",
    "    else:\n",
    "        return \"\"\n"
   ],
   "outputs": [],
   "execution_count": null
  },
  {
   "cell_type": "markdown",
   "id": "90b54cba79fe3fc3",
   "metadata": {},
   "source": [
    "full file processing (read, parse, write)"
   ]
  },
  {
   "cell_type": "code",
   "id": "c888d976b3a199c5",
   "metadata": {},
   "source": [
    "def process_json_file(s3_client, bucket: str, key: str) -> str:\n",
    "    try:\n",
    "        obj = s3_client.get_object(Bucket=bucket, Key=key)\n",
    "        data = json.load(obj['Body'])\n",
    "\n",
    "        html = data.get(\"html\", \"\")\n",
    "        url = data.get(\"url\", \"\")\n",
    "        scraping_timestamp = data.get(\"timestamp\", \"\")\n",
    "\n",
    "        article_text = extract_article_text_by_source(url, html)\n",
    "        parsed_data = {\n",
    "            \"url\": url,\n",
    "            \"scrapingTimestamp\": scraping_timestamp,\n",
    "            \"parsingTimestamp\": datetime.utcnow().isoformat() + \"Z\",\n",
    "            \"articleText\": article_text\n",
    "        }\n",
    "\n",
    "        new_key = key.replace(\"raw/scrape_raw_\", \"parsed/parsed_\")\n",
    "        s3_client.put_object(\n",
    "            Bucket=bucket,\n",
    "            Key=new_key,\n",
    "            Body=json.dumps(parsed_data, ensure_ascii=False, indent=2).encode(\"utf-8\"),\n",
    "            ContentType=\"application/json\"\n",
    "        )\n",
    "\n",
    "        return f\"✅ {key} → {new_key}\"\n",
    "\n",
    "    except Exception as e:\n",
    "        return f\"❌ Error processing {key}: {e}\"\n"
   ],
   "outputs": [],
   "execution_count": null
  },
  {
   "cell_type": "markdown",
   "id": "6ef4f7e3-b2ef-4287-a329-4a2a4a928fc8",
   "metadata": {},
   "source": [
    "Initializing S3 Client & Batch processing"
   ]
  },
  {
   "cell_type": "code",
   "id": "a45f99a236147cfe",
   "metadata": {},
   "source": [
    "s3 = boto3.client(\n",
    "    's3',\n",
    "    endpoint_url='http://172.29.16.105:9000',\n",
    "    aws_access_key_id='bdenggroup3',\n",
    "    aws_secret_access_key='bdenggroup3'\n",
    ")\n",
    "\n",
    "bucket_name = \"bdenggroup3\"\n",
    "\n",
    "paginator = s3.get_paginator('list_objects_v2')\n",
    "\n",
    "counter = 0\n",
    "\n",
    "for page in paginator.paginate(Bucket=bucket_name, Prefix='raw/'):\n",
    "    for obj in page.get('Contents', []):\n",
    "        key = obj[\"Key\"]\n",
    "        if key.startswith(\"raw/scrape_raw_\") and key.endswith(\".json\"):\n",
    "            result = process_json_file(s3, bucket_name, key)\n",
    "            print(f'File {counter}: {result}')\n",
    "            counter += 1\n",
    "        if counter >= 100000:\n",
    "            print(\"too many files\")\n",
    "            break\n",
    "    else:\n",
    "        continue\n",
    "    break"
   ],
   "outputs": [],
   "execution_count": null
  },
  {
   "cell_type": "code",
   "id": "17dcf87a-6f97-4634-b864-1255e8cac4da",
   "metadata": {},
   "source": [
    "spark.stop()"
   ],
   "outputs": [],
   "execution_count": null
  }
 ],
 "metadata": {
  "kernelspec": {
   "display_name": "Python 3 (ipykernel)",
   "language": "python",
   "name": "python3"
  },
  "language_info": {
   "codemirror_mode": {
    "name": "ipython",
    "version": 3
   },
   "file_extension": ".py",
   "mimetype": "text/x-python",
   "name": "python",
   "nbconvert_exporter": "python",
   "pygments_lexer": "ipython3",
   "version": "3.11.13"
  }
 },
 "nbformat": 4,
 "nbformat_minor": 5
}
