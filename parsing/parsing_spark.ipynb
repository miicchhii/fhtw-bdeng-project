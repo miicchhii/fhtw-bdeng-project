{
 "cells": [
  {
   "metadata": {},
   "cell_type": "markdown",
   "source": "Benzinga - publishing Time",
   "id": "1ed30931f75b9ded"
  },
  {
   "metadata": {},
   "cell_type": "code",
   "outputs": [],
   "execution_count": null,
   "source": [
    "def extract_benzinga_publish_date(html: str) -> str:\n",
    "    soup = BeautifulSoup(html, 'html.parser')\n",
    "    date_span = soup.find(\"span\", class_=\"article-date\")\n",
    "    if not date_span:\n",
    "        return \"\"\n",
    "\n",
    "    raw_date = date_span.get_text(strip=True)\n",
    "\n",
    "\n",
    "    dt = datetime.strptime(raw_date, \"%B %d, %Y %I:%M %p\")\n",
    "    return dt.isoformat()"
   ],
   "id": "9e3153968df62fd2"
  },
  {
   "metadata": {},
   "cell_type": "code",
   "outputs": [],
   "execution_count": null,
   "source": [
    "def extract_benzinga_article_data(html: str) -> tuple[str, str]:\n",
    "    article_text = extract_benzinga_article_text(html)\n",
    "    publish_date = extract_benzinga_publish_date(html)\n",
    "    return article_text, publish_date"
   ],
   "id": "6ced1f506d41f4a0"
  },
  {
   "metadata": {},
   "cell_type": "markdown",
   "source": "Fool - publishing Time",
   "id": "69bb2b5ffd5327fb"
  },
  {
   "metadata": {},
   "cell_type": "code",
   "source": [
    "def extract_fool_publish_date(html: str) -> str:\n",
    "    soup = BeautifulSoup(html, \"html.parser\")\n",
    "\n",
    "    meta_tag = soup.find(\"meta\", attrs={\"property\": \"article:published_time\"})\n",
    "    if meta_tag and meta_tag.get(\"content\"):\n",
    "        dt = datetime.fromisoformat(meta_tag[\"content\"])\n",
    "        dt_utc = dt.astimezone(timezone.utc)\n",
    "        return dt_utc.replace(tzinfo=None).isoformat(timespec=\"microseconds\")\n",
    "\n",
    "    return \"\""
   ],
   "id": "4982c07a25d8056e",
   "outputs": [],
   "execution_count": null
  },
  {
   "metadata": {},
   "cell_type": "code",
   "outputs": [],
   "execution_count": null,
   "source": [
    "def extract_fool_article_data(html: str) -> tuple[str, str]:\n",
    "    article_text = extract_fool_article_text(html)\n",
    "    publish_date = extract_fool_publish_date(html)\n",
    "    return article_text, publish_date\n"
   ],
   "id": "c53dbede2e5f886b"
  },
  {
   "metadata": {},
   "cell_type": "markdown",
   "source": "Imports",
   "id": "250c141cb23c7dc6"
  },
  {
   "cell_type": "code",
   "id": "67cb9cfe-94dd-42a0-9425-0fcd441bc6bf",
   "metadata": {},
   "source": [
    "import re\n",
    "from bs4 import BeautifulSoup\n",
    "import boto3\n",
    "from pyspark.sql import SparkSession\n",
    "from datetime import datetime, timezone"
   ],
   "outputs": [],
   "execution_count": null
  },
  {
   "cell_type": "markdown",
   "id": "0b7e8cb1-720a-4847-b316-6c8844073e08",
   "metadata": {},
   "source": [
    "# Connection to MinIO"
   ]
  },
  {
   "cell_type": "code",
   "id": "896b25ac-2f71-4069-904c-404e9925d852",
   "metadata": {},
   "source": [
    "s3_endpoint_url=\"http://172.29.16.105:9000\"\n",
    "s3_access_key_id=\"bdenggroup3\"\n",
    "s3_secret_access_key=\"bdenggroup3\"\n",
    "bucket_name = \"bdenggroup3\"\n",
    "\n",
    "spark_master_url = \"spark://localhost:7077\"\n",
    "\n",
    "spark = SparkSession.builder \\\n",
    "    .appName(\"PySpark Access Logs Minio\") \\\n",
    "    .master(spark_master_url) \\\n",
    "    .config(\"spark.hadoop.fs.s3a.endpoint\", s3_endpoint_url) \\\n",
    "    .config(\"spark.hadoop.fs.s3a.access.key\", s3_access_key_id) \\\n",
    "    .config(\"spark.hadoop.fs.s3a.secret.key\", s3_secret_access_key) \\\n",
    "    .config(\"spark.hadoop.fs.s3a.path.style.access\", \"true\") \\\n",
    "    .config(\"spark.hadoop.fs.s3a.impl\", \"org.apache.hadoop.fs.s3a.S3AFileSystem\") \\\n",
    "    .getOrCreate()"
   ],
   "outputs": [],
   "execution_count": null
  },
  {
   "cell_type": "markdown",
   "id": "b3dda608-3059-4e73-97dc-2195d221c8ba",
   "metadata": {},
   "source": [
    "# Parser"
   ]
  },
  {
   "cell_type": "markdown",
   "id": "e631fd810367a2a2",
   "metadata": {},
   "source": [
    "## HTML Extraction Helper\n",
    "### fool"
   ]
  },
  {
   "cell_type": "code",
   "id": "e1e216b6df83264d",
   "metadata": {},
   "source": [
    "def extract_fool_article_text(html: str) -> str:\n",
    "    soup = BeautifulSoup(html, 'html.parser')\n",
    "    article_body = soup.find(\"div\", class_=\"article-body\")\n",
    "    if article_body:\n",
    "        tags = article_body.find_all(['p', 'h2'])\n",
    "        flat_text = ' '.join(tag.get_text(strip=True) for tag in tags)\n",
    "        return re.sub(r'\\s+', ' ', flat_text).strip()\n",
    "    return \"\"\n"
   ],
   "outputs": [],
   "execution_count": null
  },
  {
   "cell_type": "markdown",
   "id": "545484063999d890",
   "metadata": {},
   "source": "### benzinga"
  },
  {
   "cell_type": "code",
   "id": "c97619db90725a76",
   "metadata": {},
   "source": [
    "def extract_benzinga_article_text(html: str) -> str:\n",
    "    soup = BeautifulSoup(html, 'html.parser')\n",
    "    article_body = soup.find(\"div\", id=\"article-body\")\n",
    "    if article_body:\n",
    "        tags = article_body.find_all(['p', 'h2', 'li'])\n",
    "        flat_text = ' '.join(tag.get_text(strip=True) for tag in tags)\n",
    "        return re.sub(r'\\s+', ' ', flat_text).strip()\n",
    "    return \"\""
   ],
   "outputs": [],
   "execution_count": null
  },
  {
   "cell_type": "markdown",
   "id": "ef98d79e-8ee9-4ad3-a030-80517005c9eb",
   "metadata": {},
   "source": "### zacks"
  },
  {
   "cell_type": "code",
   "id": "8fb6648d-0ec5-4bb7-bb49-c5f57c0d2a95",
   "metadata": {},
   "source": [
    "def extract_zacks_article_text(html: str) -> str:\n",
    "    soup = BeautifulSoup(html, 'html.parser')\n",
    "    article_body = soup.find(\"div\", id=\"comtext\")\n",
    "\n",
    "    if article_body:\n",
    "        tags = article_body.find_all(['p', 'h2', 'li'])\n",
    "        flat_text = ' '.join(tag.get_text(strip=True) for tag in tags)\n",
    "        flat_text = re.sub(r'-{5,}.*?-{5,}', '', flat_text)  # Remove ad block content\n",
    "        return re.sub(r'\\s+', ' ', flat_text).strip()\n",
    "\n",
    "    return \"\"\n"
   ],
   "outputs": [],
   "execution_count": null
  },
  {
   "cell_type": "markdown",
   "id": "39c88985a4580e31",
   "metadata": {},
   "source": [
    "dynamic dispatcher\n"
   ]
  },
  {
   "cell_type": "code",
   "id": "d0e1ea041517fa79",
   "metadata": {},
   "source": [
    "def extract_article_text_by_source(url: str, html: str) -> str:\n",
    "    if \"fool.com\" in url:\n",
    "        return extract_fool_article_text(html)\n",
    "    elif \"benzinga.com\" in url:\n",
    "        return extract_benzinga_article_text(html)\n",
    "    elif \"zacks.com\" in url:\n",
    "        return extract_zacks_article_text(html)\n",
    "    else:\n",
    "        return \"\"\n"
   ],
   "outputs": [],
   "execution_count": null
  },
  {
   "metadata": {},
   "cell_type": "code",
   "source": [
    "\n",
    "def process_key(key):\n",
    "    import boto3\n",
    "    import json\n",
    "    from datetime import datetime\n",
    "\n",
    "    s3 = boto3.client(\"s3\",\n",
    "                      endpoint_url=s3_endpoint_url,\n",
    "                      aws_access_key_id=s3_access_key_id,\n",
    "                      aws_secret_access_key=s3_secret_access_key)\n",
    "\n",
    "    obj = s3.get_object(Bucket=bucket_name, Key=key)\n",
    "    data = json.load(obj['Body'])\n",
    "\n",
    "    html = data.get(\"html\", \"\")\n",
    "    url = data.get(\"url\", \"\")\n",
    "    scraping_timestamp = data.get(\"timestamp\", \"\")\n",
    "\n",
    "    article_text = extract_article_text_by_source(url, html)\n",
    "    parsed_data = {\n",
    "        \"url\": url,\n",
    "        \"scrapingTimestamp\": scraping_timestamp,\n",
    "        \"parsingTimestamp\": datetime.utcnow().isoformat() + \"Z\",\n",
    "        \"articleText\": article_text\n",
    "    }\n",
    "\n",
    "    new_key = key.replace(\"raw/scrape_raw_\", \"parsed/parsed_\")\n",
    "    s3.put_object(\n",
    "        Bucket=bucket_name,\n",
    "        Key=new_key,\n",
    "        Body=json.dumps(parsed_data, ensure_ascii=False, indent=2).encode(\"utf-8\"),\n",
    "        ContentType=\"application/json\"\n",
    "    )\n",
    "\n",
    "    return f\"✅ {key} → {new_key}\""
   ],
   "id": "677a74dc51389a96",
   "outputs": [],
   "execution_count": null
  },
  {
   "metadata": {},
   "cell_type": "code",
   "source": [
    "# -- Step 1: List keys from S3 in the 'raw/' folder\n",
    "def list_s3_keys(bucket_name, prefix, s3_client):\n",
    "    paginator = s3_client.get_paginator('list_objects_v2')\n",
    "    keys = []\n",
    "    for page in paginator.paginate(Bucket=bucket_name, Prefix=prefix):\n",
    "        for obj in page.get('Contents', []):\n",
    "            key = obj['Key']\n",
    "            if key.startswith(\"raw/scrape_raw_\") and key.endswith(\".json\"):\n",
    "                keys.append(key)\n",
    "    return keys"
   ],
   "id": "feae07912ec7a019",
   "outputs": [],
   "execution_count": null
  },
  {
   "metadata": {},
   "cell_type": "code",
   "source": [
    "# -- Step 2: Create boto3 client and list keys\n",
    "s3 = boto3.client(\"s3\",\n",
    "                  endpoint_url=s3_endpoint_url,\n",
    "                  aws_access_key_id=s3_access_key_id,\n",
    "                  aws_secret_access_key=s3_secret_access_key)\n",
    "\n",
    "all_keys = list_s3_keys(bucket_name, \"raw/\", s3)\n",
    "\n",
    "# parse up to 100000 files\n",
    "rdd = spark.sparkContext.parallelize(all_keys[:1000])\n",
    "saved_keys = rdd.map(process_key).collect()\n"
   ],
   "id": "e488f65558119b11",
   "outputs": [],
   "execution_count": null
  },
  {
   "cell_type": "code",
   "id": "17dcf87a-6f97-4634-b864-1255e8cac4da",
   "metadata": {},
   "source": [
    "spark.stop()"
   ],
   "outputs": [],
   "execution_count": null
  }
 ],
 "metadata": {
  "kernelspec": {
   "display_name": "Python 3 (ipykernel)",
   "language": "python",
   "name": "python3"
  },
  "language_info": {
   "codemirror_mode": {
    "name": "ipython",
    "version": 3
   },
   "file_extension": ".py",
   "mimetype": "text/x-python",
   "name": "python",
   "nbconvert_exporter": "python",
   "pygments_lexer": "ipython3",
   "version": "3.11.13"
  }
 },
 "nbformat": 4,
 "nbformat_minor": 5
}
