{
 "cells": [
  {
   "cell_type": "code",
   "id": "f1efcf25ef580af2",
   "metadata": {},
   "source": [
    "import pandas as pd\n",
    "import matplotlib.pyplot as plt\n",
    "from influxdb_client import InfluxDBClient\n",
    "from influxdb_client.client.write_api import SYNCHRONOUS\n",
    "import yfinance as yf\n",
    "\n",
    "# --- InfluxDB config ---\n",
    "INFLUXDB_URL = \"http://localhost:10896\"\n",
    "INFLUXDB_TOKEN = \"14iJvsBJKp37nLXjIZvE4RbAoEO2dNs1k0GvCbKuJUnF_ub4pSWWw80O739jabLPMD-XBzA72WSX9f-4FuDBQ==\"\n",
    "INFLUXDB_ORG = \"bdinf-org\"\n",
    "INFLUXDB_BUCKET = \"bdinf-bucket\"\n",
    "\n",
    "\n",
    "TICKER = \"TSLA\"\n",
    "START_DATE = \"2024-01-01\"\n",
    "END_DATE = \"2024-12-31\""
   ],
   "outputs": [],
   "execution_count": null
  },
  {
   "metadata": {},
   "cell_type": "code",
   "source": [
    "\n",
    "#--- Connect to InfluxDB and query data ---\n",
    "client = InfluxDBClient(url=INFLUXDB_URL, token=INFLUXDB_TOKEN, org=INFLUXDB_ORG)\n",
    "query_api = client.query_api()\n",
    "\n",
    "query = f'''\n",
    "from(bucket: \"{INFLUXDB_BUCKET}\")\n",
    "  |> range(start: {START_DATE}T00:00:00Z, stop: {END_DATE}T23:59:59Z)\n",
    "  |> filter(fn: (r) => r[\"_measurement\"] == \"sentiment_data\")\n",
    "  |> filter(fn: (r) => r[\"ticker\"] == \"{TICKER}\")\n",
    "  |> filter(fn: (r) => r[\"_field\"] == \"avg_sentiment_score\")\n",
    "  |> aggregateWindow(every: 1d, fn: mean)\n",
    "  |> pivot(rowKey:[\"_time\"], columnKey: [\"_field\"], valueColumn: \"_value\")\n",
    "  |> yield(name: \"pivoted\")\n",
    "'''\n",
    "\n",
    "# Run the query\n",
    "df = query_api.query_data_frame(org=INFLUXDB_ORG, query=query)\n",
    "\n",
    "# Clean up the sentiment DataFrame\n",
    "sentiment_df = df[['_time', 'avg_sentiment_score']].rename(columns={'_time': 'Date', 'avg_sentiment_score': 'Sentiment'})\n",
    "sentiment_df['Date'] = pd.to_datetime(sentiment_df['Date'])\n",
    "sentiment_df.set_index('Date', inplace=True)"
   ],
   "id": "21c6266da190c546",
   "outputs": [],
   "execution_count": null
  },
  {
   "metadata": {},
   "cell_type": "code",
   "source": [
    "# --- Fetch Yahoo Finance data (NOTE: auto_adjust=True is now default) ---\n",
    "yf_df = yf.download(TICKER, start=START_DATE, end=END_DATE, auto_adjust=False)\n",
    "\n",
    "# Flatten MultiIndex columns if needed\n",
    "if isinstance(yf_df.columns, pd.MultiIndex):\n",
    "    yf_df.columns = yf_df.columns.get_level_values(0)\n",
    "\n",
    "yf_df = yf_df[['Adj Close']].rename(columns={'Adj Close': 'Price'})"
   ],
   "id": "6497e907bfb2e9b2",
   "outputs": [],
   "execution_count": null
  },
  {
   "metadata": {},
   "cell_type": "code",
   "source": [
    "sentiment_df.index = sentiment_df.index.tz_localize(None)  # remove timezone\n",
    "yf_df.index = yf_df.index.tz_localize(None)\n",
    "\n",
    "# --- Merge and normalize ---\n",
    "merged = sentiment_df.join(yf_df, how='inner')\n",
    "merged.dropna(inplace=True)"
   ],
   "id": "5e1cd38bbe0e9277",
   "outputs": [],
   "execution_count": null
  },
  {
   "metadata": {
    "collapsed": true
   },
   "cell_type": "code",
   "source": [
    "\n",
    "merged['Sentiment_norm'] = (merged['Sentiment'] - merged['Sentiment'].mean()) / merged['Sentiment'].std()\n",
    "merged['Price_norm'] = (merged['Price'] - merged['Price'].mean()) / merged['Price'].std()\n",
    "\n",
    "# --- Plot ---\n",
    "plt.figure(figsize=(14, 6))\n",
    "plt.plot(merged.index, merged['Sentiment_norm'], label='Normalized Sentiment', linewidth=2)\n",
    "plt.plot(merged.index, merged['Price_norm'], label='Normalized Adjusted Close Price', linewidth=2)\n",
    "plt.title(f\"Sentiment vs Price for {TICKER}\")\n",
    "plt.xlabel(\"Date\")\n",
    "plt.ylabel(\"Normalized Value\")\n",
    "plt.legend()\n",
    "plt.grid(True)\n",
    "plt.tight_layout()\n",
    "plt.show()"
   ],
   "id": "initial_id",
   "outputs": [],
   "execution_count": null
  }
 ],
 "metadata": {
  "kernelspec": {
   "display_name": "Python 3",
   "language": "python",
   "name": "python3"
  },
  "language_info": {
   "codemirror_mode": {
    "name": "ipython",
    "version": 2
   },
   "file_extension": ".py",
   "mimetype": "text/x-python",
   "name": "python",
   "nbconvert_exporter": "python",
   "pygments_lexer": "ipython2",
   "version": "2.7.6"
  }
 },
 "nbformat": 4,
 "nbformat_minor": 5
}
