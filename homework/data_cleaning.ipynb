{
 "cells": [
  {
   "cell_type": "markdown",
   "id": "f6229671-08c8-4ab5-9550-af3f0f68e5b4",
   "metadata": {},
   "source": [
    "# Data Cleaning Exercise\n",
    "\n",
    "Cleaning your data is crucial when starting a new data engineering project because it ensures the accuracy, consistency, and reliability of the dataset. Dirty data, which may include duplicates, missing values, and errors, can lead to incorrect analysis and insights, ultimately affecting the decision-making process. Data cleaning helps in identifying and rectifying these issues, providing a solid foundation for building effective data models and analytics. Additionally, clean data improves the performance of algorithms and enhances the overall efficiency of the project, leading to more trustworthy and actionable results."
   ]
  },
  {
   "cell_type": "markdown",
   "id": "bbc2d260-4fd6-4e01-89bc-fe4747c3e1ea",
   "metadata": {},
   "source": [
    "Use Python, ```numpy```, ```pandas``` and/or ```matplotlib``` to analyse and clean your batch data:"
   ]
  },
  {
   "cell_type": "markdown",
   "id": "416e6c68-a09c-4627-b1aa-603a26d1fff7",
   "metadata": {},
   "source": [
    "## Import Libraries"
   ]
  },
  {
   "cell_type": "code",
   "execution_count": null,
   "id": "8f0c4277-3351-442e-b87b-f8b678b2f1ab",
   "metadata": {},
   "outputs": [],
   "source": [
    "# TODO"
   ]
  },
  {
   "cell_type": "markdown",
   "id": "baf3bbbb-caa4-47b2-bdbd-d38a183868f2",
   "metadata": {},
   "source": [
    "## Load Data\n",
    "\n",
    "Link to data source: ```<TODO>```"
   ]
  },
  {
   "cell_type": "code",
   "execution_count": null,
   "id": "79e789d3-f9e7-43e4-a1e6-6d8ef254d2e9",
   "metadata": {},
   "outputs": [],
   "source": [
    "# TODO"
   ]
  },
  {
   "cell_type": "markdown",
   "id": "43dc919a-40f5-4254-9d33-3a09ebdb9272",
   "metadata": {},
   "source": [
    "## Understand the Data\n",
    "\n",
    "View the first few rows, get summary statistics and check data types"
   ]
  },
  {
   "cell_type": "code",
   "execution_count": null,
   "id": "331051c1-ee77-4a8e-81f0-80502341dc80",
   "metadata": {},
   "outputs": [],
   "source": [
    "# TODO"
   ]
  },
  {
   "cell_type": "markdown",
   "id": "2d340e14-7bf2-4caa-aec9-c7d6c441e742",
   "metadata": {},
   "source": [
    "## Handle Missing Data\n",
    "\n",
    "Identify missing values and fill or drop missing values"
   ]
  },
  {
   "cell_type": "code",
   "execution_count": null,
   "id": "7b594140-0595-423d-8f5c-81faa78de617",
   "metadata": {},
   "outputs": [],
   "source": [
    "# TODO"
   ]
  },
  {
   "cell_type": "markdown",
   "id": "7523f258-ab6a-463e-8e00-deb2472bd635",
   "metadata": {},
   "source": [
    "## Handle Duplicates\n",
    "\n",
    "Identify duplicates and remove them"
   ]
  },
  {
   "cell_type": "code",
   "execution_count": null,
   "id": "83438ded-9349-4bbb-b60c-6730a6a1bc4b",
   "metadata": {},
   "outputs": [],
   "source": [
    "# TODO"
   ]
  },
  {
   "cell_type": "markdown",
   "id": "af2a1520-5170-4516-aad9-b6ef364ceef5",
   "metadata": {},
   "source": [
    "## Handle Outliers\n",
    "\n",
    "Identify outliers and remove or corret them"
   ]
  },
  {
   "cell_type": "code",
   "execution_count": null,
   "id": "69f6e351-f568-427d-bf33-915064fd0d15",
   "metadata": {},
   "outputs": [],
   "source": [
    "# TODO"
   ]
  },
  {
   "cell_type": "markdown",
   "id": "ec88a053-b665-4bf8-88fc-59e3ac830d15",
   "metadata": {},
   "source": [
    "## Handle Incorrect Data Types"
   ]
  },
  {
   "cell_type": "code",
   "execution_count": null,
   "id": "ebe052cc-6543-4d42-a887-26da3fcc353e",
   "metadata": {},
   "outputs": [],
   "source": [
    "# TODO"
   ]
  },
  {
   "cell_type": "markdown",
   "id": "b4b81f4b-086b-47bb-8001-e3bca4dfcf01",
   "metadata": {},
   "source": [
    "## Visualize Data\n",
    "\n",
    "Use graphes, plots and/or diagrams to visualize the data"
   ]
  },
  {
   "cell_type": "code",
   "execution_count": null,
   "id": "3288f622-4d5c-4de6-8302-51a60377e8bb",
   "metadata": {},
   "outputs": [],
   "source": [
    "# TODO"
   ]
  },
  {
   "cell_type": "markdown",
   "id": "b1fe4e07-2241-44dc-af0d-c4b08e4ddb2e",
   "metadata": {},
   "source": [
    "## Save Cleaned Data"
   ]
  },
  {
   "cell_type": "code",
   "execution_count": null,
   "id": "a5cdee23-dc0a-4bc0-a3c3-32c0a361af35",
   "metadata": {},
   "outputs": [],
   "source": [
    "# TODO"
   ]
  }
 ],
 "metadata": {
  "kernelspec": {
   "display_name": "Python 3 (ipykernel)",
   "language": "python",
   "name": "python3"
  },
  "language_info": {
   "codemirror_mode": {
    "name": "ipython",
    "version": 3
   },
   "file_extension": ".py",
   "mimetype": "text/x-python",
   "name": "python",
   "nbconvert_exporter": "python",
   "pygments_lexer": "ipython3",
   "version": "3.11.6"
  }
 },
 "nbformat": 4,
 "nbformat_minor": 5
}
