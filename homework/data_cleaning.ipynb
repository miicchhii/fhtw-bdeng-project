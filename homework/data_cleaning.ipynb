{
 "cells": [
  {
   "metadata": {},
   "cell_type": "markdown",
   "source": [
    "# Data Cleaning Exercise\n",
    "\n",
    "Cleaning your data is crucial when starting a new data engineering project because it ensures the accuracy, consistency, and reliability of the dataset. Dirty data, which may include duplicates, missing values, and errors, can lead to incorrect analysis and insights, ultimately affecting the decision-making process. Data cleaning helps in identifying and rectifying these issues, providing a solid foundation for building effective data models and analytics. Additionally, clean data improves the performance of algorithms and enhances the overall efficiency of the project, leading to more trustworthy and actionable results."
   ],
   "id": "7c7d1cf883d516a"
  },
  {
   "metadata": {},
   "cell_type": "markdown",
   "source": "Use Python, ```numpy```, ```pandas``` and/or ```matplotlib``` to analyse and clean your batch data:",
   "id": "3a6a64e761d8d707"
  },
  {
   "metadata": {},
   "cell_type": "markdown",
   "source": "## Import Libraries",
   "id": "1db31bb4f16c8e19"
  },
  {
   "metadata": {},
   "cell_type": "code",
   "source": [
    "import numpy as np\n",
    "import pandas as pd\n",
    "import matplotlib.pyplot as plt"
   ],
   "id": "7f8af526ba4d085e",
   "outputs": [],
   "execution_count": null
  },
  {
   "metadata": {},
   "cell_type": "markdown",
   "source": [
    "## Load Data\n",
    "\n",
    "Link to data source: ```<TODO>```"
   ],
   "id": "b75dc9c5bc5b25fe"
  },
  {
   "metadata": {},
   "cell_type": "code",
   "source": "df = pd.read_csv('AAPL.csv')",
   "id": "339b8f21d7882970",
   "outputs": [],
   "execution_count": null
  },
  {
   "metadata": {},
   "cell_type": "markdown",
   "source": [
    "## Understand the Data\n",
    "\n",
    "View the first few rows, get summary statistics and check data types"
   ],
   "id": "1f3ea41a6886b176"
  },
  {
   "metadata": {},
   "cell_type": "code",
   "source": "df.head(10)",
   "id": "7253e720c9bb9f81",
   "outputs": [],
   "execution_count": null
  },
  {
   "metadata": {},
   "cell_type": "code",
   "source": "print(df.dtypes)",
   "id": "eaf3b369424d7110",
   "outputs": [],
   "execution_count": null
  },
  {
   "metadata": {},
   "cell_type": "code",
   "source": [
    "print(\"Allgemeine Informationen:\")\n",
    "df.info()\n",
    "\n",
    "print(\"\\nStatistische Zusammenfassung:\")\n",
    "print(df.describe(include='all'))"
   ],
   "id": "76e6abe069af073a",
   "outputs": [],
   "execution_count": null
  },
  {
   "metadata": {},
   "cell_type": "markdown",
   "source": [
    "## Handle Missing Data\n",
    "\n",
    "Identify missing values and fill or drop missing values"
   ],
   "id": "aec6dca4931ef176"
  },
  {
   "metadata": {},
   "cell_type": "code",
   "source": [
    "print(\"Fehlende Werte pro Spalte:\")\n",
    "print(df.isnull().sum())"
   ],
   "id": "5ce7ba47e1e4314a",
   "outputs": [],
   "execution_count": null
  },
  {
   "metadata": {},
   "cell_type": "markdown",
   "source": [
    "## Handle Duplicates\n",
    "\n",
    "Identify duplicates and remove them"
   ],
   "id": "db4d860a71fc7f0d"
  },
  {
   "metadata": {},
   "cell_type": "code",
   "source": [
    "duplicates = df.duplicated()\n",
    "print(f\"Anzahl doppelter Zeilen: {duplicates.sum()}\")"
   ],
   "id": "f1367045f871ae86",
   "outputs": [],
   "execution_count": null
  },
  {
   "metadata": {},
   "cell_type": "code",
   "source": [
    "# If Duplicates: remove Duplicates\n",
    "df = df.drop_duplicates()"
   ],
   "id": "d0d7b03ff4611daa",
   "outputs": [],
   "execution_count": null
  },
  {
   "metadata": {},
   "cell_type": "markdown",
   "source": [
    "## Handle Outliers\n",
    "\n",
    "Identify outliers and remove or corret them"
   ],
   "id": "cef560dfcfcd307c"
  },
  {
   "metadata": {},
   "cell_type": "code",
   "source": [
    "numeric_cols = ['open', 'high', 'low', 'close', 'volume', 'adjclose', 'dividends']\n",
    "\n",
    "# Boxplots\n",
    "for col in numeric_cols:\n",
    "    plt.figure()\n",
    "    df.boxplot(column=col)\n",
    "    plt.title(f'Boxplot für {col}')\n",
    "    plt.show()"
   ],
   "id": "ab48fd56537c1dc0",
   "outputs": [],
   "execution_count": null
  },
  {
   "metadata": {},
   "cell_type": "markdown",
   "source": "## Handle Incorrect Data Types",
   "id": "45c8b93781f66b6c"
  },
  {
   "metadata": {},
   "cell_type": "code",
   "source": [
    "# Umwandlung der Datumsspalte in datetime-Format\n",
    "df['date'] = pd.to_datetime(df['date'])\n",
    "print(df.dtypes)"
   ],
   "id": "30a0f8e4ef694a3e",
   "outputs": [],
   "execution_count": null
  },
  {
   "metadata": {},
   "cell_type": "markdown",
   "source": [
    "## Visualize Data\n",
    "\n",
    "Use graphes, plots and/or diagrams to visualize the data"
   ],
   "id": "d51c61af16c62413"
  },
  {
   "metadata": {},
   "cell_type": "code",
   "source": [
    "plt.figure(figsize=(12, 6))\n",
    "plt.plot(df['date'], df['close'])\n",
    "plt.title('AAPL Schlusskurs über die Zeit')\n",
    "plt.xlabel('Datum')\n",
    "plt.ylabel('Schlusskurs ($)')\n",
    "plt.grid(True)\n",
    "plt.show()"
   ],
   "id": "31517d6a065e21f8",
   "outputs": [],
   "execution_count": null
  },
  {
   "metadata": {},
   "cell_type": "code",
   "source": [
    "plt.figure(figsize=(12, 4))\n",
    "plt.bar(df['date'], df['volume'], width=1.0)\n",
    "plt.title('Handelsvolumen über die Zeit')\n",
    "plt.xlabel('Datum')\n",
    "plt.ylabel('Volumen')\n",
    "plt.show()"
   ],
   "id": "be5ec24eb6228111",
   "outputs": [],
   "execution_count": null
  },
  {
   "metadata": {},
   "cell_type": "markdown",
   "source": "## Save Cleaned Data",
   "id": "cc93848082f19612"
  },
  {
   "metadata": {},
   "cell_type": "code",
   "source": [
    "df.to_json('AAPL_cleaned.json', orient='records', lines=True)\n",
    "\n",
    "print(\"Saved as AAPL_cleaned.json\")"
   ],
   "id": "b67340bd95684d7f",
   "outputs": [],
   "execution_count": null
  }
 ],
 "metadata": {
  "kernelspec": {
   "display_name": "Python 3 (ipykernel)",
   "language": "python",
   "name": "python3"
  },
  "language_info": {
   "codemirror_mode": {
    "name": "ipython",
    "version": 3
   },
   "file_extension": ".py",
   "mimetype": "text/x-python",
   "name": "python",
   "nbconvert_exporter": "python",
   "pygments_lexer": "ipython3",
   "version": "3.11.6"
  }
 },
 "nbformat": 4,
 "nbformat_minor": 5
}
