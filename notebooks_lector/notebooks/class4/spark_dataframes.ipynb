{
 "cells": [
  {
   "cell_type": "markdown",
   "id": "5d22a803-d6b7-44e3-bdd3-8e22726ef2df",
   "metadata": {},
   "source": [
    "# Spark DataFrames"
   ]
  },
  {
   "cell_type": "markdown",
   "id": "afc800c7-90ad-4f66-bd96-169f49e82e75",
   "metadata": {},
   "source": [
    "This iPython notebooks introduces to Spark DataFrames (compared to NumPy/Pandas)."
   ]
  },
  {
   "cell_type": "markdown",
   "id": "b2b49206-b2ac-47fb-98b7-b94ed7f2dd0c",
   "metadata": {},
   "source": [
    "## Creating and working with a Spark DataFrame"
   ]
  },
  {
   "cell_type": "code",
   "execution_count": 1,
   "id": "d581cb32-1dd8-465d-9d25-e7b365dbc884",
   "metadata": {},
   "outputs": [],
   "source": [
    "from pyspark.sql import SparkSession"
   ]
  },
  {
   "cell_type": "code",
   "execution_count": 2,
   "id": "a524b672-dc23-4acd-a19e-eeb52105e0da",
   "metadata": {},
   "outputs": [],
   "source": [
    "# create a Spark Session\n",
    "spark = SparkSession\\\n",
    "    .builder\\\n",
    "    .appName(\"Spark DataFrame Sample\")\\\n",
    "    .getOrCreate()"
   ]
  },
  {
   "cell_type": "code",
   "execution_count": 4,
   "id": "75ffaca8-3989-4e9e-9498-5ee917d3f511",
   "metadata": {},
   "outputs": [],
   "source": [
    "import pandas as pd\n",
    "pd.options.display.max_rows = 5"
   ]
  },
  {
   "cell_type": "code",
   "execution_count": 5,
   "id": "6f4423b7-07ee-492c-a88c-6537c19a0961",
   "metadata": {},
   "outputs": [
    {
     "data": {
      "text/html": [
       "<div>\n",
       "<style scoped>\n",
       "    .dataframe tbody tr th:only-of-type {\n",
       "        vertical-align: middle;\n",
       "    }\n",
       "\n",
       "    .dataframe tbody tr th {\n",
       "        vertical-align: top;\n",
       "    }\n",
       "\n",
       "    .dataframe thead th {\n",
       "        text-align: right;\n",
       "    }\n",
       "</style>\n",
       "<table border=\"1\" class=\"dataframe\">\n",
       "  <thead>\n",
       "    <tr style=\"text-align: right;\">\n",
       "      <th></th>\n",
       "      <th>SepalLength</th>\n",
       "      <th>SepalWidth</th>\n",
       "      <th>PetalLength</th>\n",
       "      <th>PetalWidth</th>\n",
       "      <th>Species</th>\n",
       "    </tr>\n",
       "  </thead>\n",
       "  <tbody>\n",
       "    <tr>\n",
       "      <th>0</th>\n",
       "      <td>5.1</td>\n",
       "      <td>3.5</td>\n",
       "      <td>1.4</td>\n",
       "      <td>0.2</td>\n",
       "      <td>setosa</td>\n",
       "    </tr>\n",
       "    <tr>\n",
       "      <th>1</th>\n",
       "      <td>4.9</td>\n",
       "      <td>3.0</td>\n",
       "      <td>1.4</td>\n",
       "      <td>0.2</td>\n",
       "      <td>setosa</td>\n",
       "    </tr>\n",
       "    <tr>\n",
       "      <th>...</th>\n",
       "      <td>...</td>\n",
       "      <td>...</td>\n",
       "      <td>...</td>\n",
       "      <td>...</td>\n",
       "      <td>...</td>\n",
       "    </tr>\n",
       "    <tr>\n",
       "      <th>148</th>\n",
       "      <td>6.2</td>\n",
       "      <td>3.4</td>\n",
       "      <td>5.4</td>\n",
       "      <td>2.3</td>\n",
       "      <td>virginica</td>\n",
       "    </tr>\n",
       "    <tr>\n",
       "      <th>149</th>\n",
       "      <td>5.9</td>\n",
       "      <td>3.0</td>\n",
       "      <td>5.1</td>\n",
       "      <td>1.8</td>\n",
       "      <td>virginica</td>\n",
       "    </tr>\n",
       "  </tbody>\n",
       "</table>\n",
       "<p>150 rows × 5 columns</p>\n",
       "</div>"
      ],
      "text/plain": [
       "     SepalLength  SepalWidth  PetalLength  PetalWidth    Species\n",
       "0            5.1         3.5          1.4         0.2     setosa\n",
       "1            4.9         3.0          1.4         0.2     setosa\n",
       "..           ...         ...          ...         ...        ...\n",
       "148          6.2         3.4          5.4         2.3  virginica\n",
       "149          5.9         3.0          5.1         1.8  virginica\n",
       "\n",
       "[150 rows x 5 columns]"
      ]
     },
     "execution_count": 5,
     "metadata": {},
     "output_type": "execute_result"
    }
   ],
   "source": [
    "# read in sample csv file\n",
    "data = pd.read_csv('data/text1.csv', \n",
    "                   sep=',', \n",
    "                   header=0,\n",
    "                   dtype={'SepalLength': float, 'Species': str})\n",
    "\n",
    "data"
   ]
  },
  {
   "cell_type": "markdown",
   "id": "18047427-a4a1-41e0-bdab-4bac7a616455",
   "metadata": {},
   "source": [
    "## Creating a Spark DataFrame"
   ]
  },
  {
   "cell_type": "code",
   "execution_count": 6,
   "id": "78e1f69d-04f4-4bf3-b1d9-5af99dda4d62",
   "metadata": {},
   "outputs": [
    {
     "data": {
      "text/plain": [
       "DataFrame[SepalLength: double, SepalWidth: double, PetalLength: double, PetalWidth: double, Species: string]"
      ]
     },
     "execution_count": 6,
     "metadata": {},
     "output_type": "execute_result"
    }
   ],
   "source": [
    "# Create the Spark DataFrame from the data\n",
    "df = spark.createDataFrame(data)\n",
    "# Get basic information about the SparkDataFrame\n",
    "df"
   ]
  },
  {
   "cell_type": "code",
   "execution_count": 7,
   "id": "dd39f0bb-0f74-4ead-9085-0210ca469bcb",
   "metadata": {},
   "outputs": [
    {
     "name": "stdout",
     "output_type": "stream",
     "text": [
      "+-----------+----------+-----------+----------+-------+\n",
      "|SepalLength|SepalWidth|PetalLength|PetalWidth|Species|\n",
      "+-----------+----------+-----------+----------+-------+\n",
      "|        5.1|       3.5|        1.4|       0.2| setosa|\n",
      "|        4.9|       3.0|        1.4|       0.2| setosa|\n",
      "|        4.7|       3.2|        1.3|       0.2| setosa|\n",
      "|        4.6|       3.1|        1.5|       0.2| setosa|\n",
      "|        5.0|       3.6|        1.4|       0.2| setosa|\n",
      "|        5.4|       3.9|        1.7|       0.4| setosa|\n",
      "|        4.6|       3.4|        1.4|       0.3| setosa|\n",
      "|        5.0|       3.4|        1.5|       0.2| setosa|\n",
      "|        4.4|       2.9|        1.4|       0.2| setosa|\n",
      "|        4.9|       3.1|        1.5|       0.1| setosa|\n",
      "|        5.4|       3.7|        1.5|       0.2| setosa|\n",
      "|        4.8|       3.4|        1.6|       0.2| setosa|\n",
      "|        4.8|       3.0|        1.4|       0.1| setosa|\n",
      "|        4.3|       3.0|        1.1|       0.1| setosa|\n",
      "|        5.8|       4.0|        1.2|       0.2| setosa|\n",
      "|        5.7|       4.4|        1.5|       0.4| setosa|\n",
      "|        5.4|       3.9|        1.3|       0.4| setosa|\n",
      "|        5.1|       3.5|        1.4|       0.3| setosa|\n",
      "|        5.7|       3.8|        1.7|       0.3| setosa|\n",
      "|        5.1|       3.8|        1.5|       0.3| setosa|\n",
      "+-----------+----------+-----------+----------+-------+\n",
      "only showing top 20 rows\n",
      "\n"
     ]
    }
   ],
   "source": [
    "df.show()"
   ]
  },
  {
   "cell_type": "markdown",
   "id": "8e858230-fd6a-494a-9f6a-df4aa3262120",
   "metadata": {},
   "source": [
    "## Querying a Spark DataFrame"
   ]
  },
  {
   "cell_type": "code",
   "execution_count": 8,
   "id": "d449908c-1e77-4316-a193-42a9927e1813",
   "metadata": {},
   "outputs": [
    {
     "data": {
      "text/html": [
       "<div>\n",
       "<style scoped>\n",
       "    .dataframe tbody tr th:only-of-type {\n",
       "        vertical-align: middle;\n",
       "    }\n",
       "\n",
       "    .dataframe tbody tr th {\n",
       "        vertical-align: top;\n",
       "    }\n",
       "\n",
       "    .dataframe thead th {\n",
       "        text-align: right;\n",
       "    }\n",
       "</style>\n",
       "<table border=\"1\" class=\"dataframe\">\n",
       "  <thead>\n",
       "    <tr style=\"text-align: right;\">\n",
       "      <th></th>\n",
       "      <th>SepalLength</th>\n",
       "      <th>SepalWidth</th>\n",
       "      <th>PetalLength</th>\n",
       "      <th>PetalWidth</th>\n",
       "      <th>Species</th>\n",
       "    </tr>\n",
       "  </thead>\n",
       "  <tbody>\n",
       "    <tr>\n",
       "      <th>0</th>\n",
       "      <td>5.1</td>\n",
       "      <td>3.5</td>\n",
       "      <td>1.4</td>\n",
       "      <td>0.2</td>\n",
       "      <td>setosa</td>\n",
       "    </tr>\n",
       "    <tr>\n",
       "      <th>1</th>\n",
       "      <td>4.9</td>\n",
       "      <td>3.0</td>\n",
       "      <td>1.4</td>\n",
       "      <td>0.2</td>\n",
       "      <td>setosa</td>\n",
       "    </tr>\n",
       "    <tr>\n",
       "      <th>...</th>\n",
       "      <td>...</td>\n",
       "      <td>...</td>\n",
       "      <td>...</td>\n",
       "      <td>...</td>\n",
       "      <td>...</td>\n",
       "    </tr>\n",
       "    <tr>\n",
       "      <th>148</th>\n",
       "      <td>6.2</td>\n",
       "      <td>3.4</td>\n",
       "      <td>5.4</td>\n",
       "      <td>2.3</td>\n",
       "      <td>virginica</td>\n",
       "    </tr>\n",
       "    <tr>\n",
       "      <th>149</th>\n",
       "      <td>5.9</td>\n",
       "      <td>3.0</td>\n",
       "      <td>5.1</td>\n",
       "      <td>1.8</td>\n",
       "      <td>virginica</td>\n",
       "    </tr>\n",
       "  </tbody>\n",
       "</table>\n",
       "<p>150 rows × 5 columns</p>\n",
       "</div>"
      ],
      "text/plain": [
       "     SepalLength  SepalWidth  PetalLength  PetalWidth    Species\n",
       "0            5.1         3.5          1.4         0.2     setosa\n",
       "1            4.9         3.0          1.4         0.2     setosa\n",
       "..           ...         ...          ...         ...        ...\n",
       "148          6.2         3.4          5.4         2.3  virginica\n",
       "149          5.9         3.0          5.1         1.8  virginica\n",
       "\n",
       "[150 rows x 5 columns]"
      ]
     },
     "execution_count": 8,
     "metadata": {},
     "output_type": "execute_result"
    }
   ],
   "source": [
    "pandasdf = df.toPandas()\n",
    "\n",
    "pandasdf"
   ]
  },
  {
   "cell_type": "code",
   "execution_count": 9,
   "id": "b7168042-c287-4297-b8a1-270ba8905b64",
   "metadata": {},
   "outputs": [
    {
     "data": {
      "text/plain": [
       "DataFrame[area: double, Species: string]"
      ]
     },
     "execution_count": 9,
     "metadata": {},
     "output_type": "execute_result"
    }
   ],
   "source": [
    "# select the entries from column 'Species' and calculate some other attribute (length * width)\n",
    "df.select((df.SepalLength * df.SepalWidth).alias('area'), df.Species)\n",
    "# nothing happens? what's wrong?"
   ]
  },
  {
   "cell_type": "code",
   "execution_count": 10,
   "id": "59ab1582-954f-4891-994a-49b49cb9e291",
   "metadata": {},
   "outputs": [
    {
     "data": {
      "text/plain": [
       "[Row(area=17.849999999999998, Species='setosa'),\n",
       " Row(area=14.700000000000001, Species='setosa'),\n",
       " Row(area=15.040000000000001, Species='setosa'),\n",
       " Row(area=14.26, Species='setosa'),\n",
       " Row(area=18.0, Species='setosa'),\n",
       " Row(area=21.060000000000002, Species='setosa'),\n",
       " Row(area=15.639999999999999, Species='setosa'),\n",
       " Row(area=17.0, Species='setosa'),\n",
       " Row(area=12.76, Species='setosa'),\n",
       " Row(area=15.190000000000001, Species='setosa')]"
      ]
     },
     "execution_count": 10,
     "metadata": {},
     "output_type": "execute_result"
    }
   ],
   "source": [
    "# execute collect() and show 10 entries only\n",
    "df.select((df.SepalLength * df.SepalWidth).alias('area'), df.Species).collect()[:10]"
   ]
  },
  {
   "cell_type": "code",
   "execution_count": 11,
   "id": "3bd478af-df7a-4ebd-96ba-41e18b230dfb",
   "metadata": {},
   "outputs": [
    {
     "data": {
      "text/plain": [
       "[Row(SepalLength=5.1, SepalWidth=3.5, PetalLength=1.4, PetalWidth=0.2, Species='setosa'),\n",
       " Row(SepalLength=4.9, SepalWidth=3.0, PetalLength=1.4, PetalWidth=0.2, Species='setosa'),\n",
       " Row(SepalLength=4.7, SepalWidth=3.2, PetalLength=1.3, PetalWidth=0.2, Species='setosa'),\n",
       " Row(SepalLength=4.6, SepalWidth=3.1, PetalLength=1.5, PetalWidth=0.2, Species='setosa'),\n",
       " Row(SepalLength=5.0, SepalWidth=3.6, PetalLength=1.4, PetalWidth=0.2, Species='setosa'),\n",
       " Row(SepalLength=5.4, SepalWidth=3.9, PetalLength=1.7, PetalWidth=0.4, Species='setosa'),\n",
       " Row(SepalLength=4.6, SepalWidth=3.4, PetalLength=1.4, PetalWidth=0.3, Species='setosa'),\n",
       " Row(SepalLength=5.0, SepalWidth=3.4, PetalLength=1.5, PetalWidth=0.2, Species='setosa'),\n",
       " Row(SepalLength=4.4, SepalWidth=2.9, PetalLength=1.4, PetalWidth=0.2, Species='setosa'),\n",
       " Row(SepalLength=4.9, SepalWidth=3.1, PetalLength=1.5, PetalWidth=0.1, Species='setosa')]"
      ]
     },
     "execution_count": 11,
     "metadata": {},
     "output_type": "execute_result"
    }
   ],
   "source": [
    "# here, only 10 entries are retrieved\n",
    "df.filter(df.Species == 'setosa').limit(10).collect()"
   ]
  },
  {
   "cell_type": "markdown",
   "id": "cc67ae68-751c-4b70-9f96-26dfde9d1e85",
   "metadata": {},
   "source": [
    "## Grouping data in a Spark DataFrame"
   ]
  },
  {
   "cell_type": "code",
   "execution_count": 12,
   "id": "27425652-c88e-41b9-96ed-81c04f8880d6",
   "metadata": {},
   "outputs": [
    {
     "data": {
      "text/plain": [
       "[Row(Species='setosa', count=50),\n",
       " Row(Species='versicolor', count=50),\n",
       " Row(Species='virginica', count=50)]"
      ]
     },
     "execution_count": 12,
     "metadata": {},
     "output_type": "execute_result"
    }
   ],
   "source": [
    "# grouping entries\n",
    "df.groupBy(df.Species).count().limit(3).collect()"
   ]
  },
  {
   "cell_type": "code",
   "execution_count": 13,
   "id": "9fef3096-2e3c-4ae5-9642-b04ef2fccb90",
   "metadata": {},
   "outputs": [
    {
     "data": {
      "text/plain": [
       "[Row(Species='setosa', count=50),\n",
       " Row(Species='versicolor', count=50),\n",
       " Row(Species='virginica', count=50)]"
      ]
     },
     "execution_count": 13,
     "metadata": {},
     "output_type": "execute_result"
    }
   ],
   "source": [
    "# grouping and sorting entries\n",
    "df.groupBy(df.Species).count().sort('Species').limit(3).collect()"
   ]
  },
  {
   "cell_type": "markdown",
   "id": "db241407-4214-4703-9a6a-a7b317e4cd46",
   "metadata": {},
   "source": [
    "## Manipulating a Spark DataFrame"
   ]
  },
  {
   "cell_type": "code",
   "execution_count": 14,
   "id": "b661fe4e-88fd-450f-becd-f6eac2031fde",
   "metadata": {},
   "outputs": [
    {
     "name": "stdout",
     "output_type": "stream",
     "text": [
      "+-----------+----------+-----------+----------+-------+------------------+\n",
      "|SepalLength|SepalWidth|PetalLength|PetalWidth|Species|         SepalArea|\n",
      "+-----------+----------+-----------+----------+-------+------------------+\n",
      "|        5.1|       3.5|        1.4|       0.2| setosa|17.849999999999998|\n",
      "|        4.9|       3.0|        1.4|       0.2| setosa|14.700000000000001|\n",
      "|        4.7|       3.2|        1.3|       0.2| setosa|15.040000000000001|\n",
      "|        4.6|       3.1|        1.5|       0.2| setosa|             14.26|\n",
      "|        5.0|       3.6|        1.4|       0.2| setosa|              18.0|\n",
      "|        5.4|       3.9|        1.7|       0.4| setosa|21.060000000000002|\n",
      "|        4.6|       3.4|        1.4|       0.3| setosa|15.639999999999999|\n",
      "|        5.0|       3.4|        1.5|       0.2| setosa|              17.0|\n",
      "|        4.4|       2.9|        1.4|       0.2| setosa|             12.76|\n",
      "|        4.9|       3.1|        1.5|       0.1| setosa|15.190000000000001|\n",
      "|        5.4|       3.7|        1.5|       0.2| setosa|19.980000000000004|\n",
      "|        4.8|       3.4|        1.6|       0.2| setosa|             16.32|\n",
      "|        4.8|       3.0|        1.4|       0.1| setosa|14.399999999999999|\n",
      "|        4.3|       3.0|        1.1|       0.1| setosa|12.899999999999999|\n",
      "|        5.8|       4.0|        1.2|       0.2| setosa|              23.2|\n",
      "|        5.7|       4.4|        1.5|       0.4| setosa|25.080000000000002|\n",
      "|        5.4|       3.9|        1.3|       0.4| setosa|21.060000000000002|\n",
      "|        5.1|       3.5|        1.4|       0.3| setosa|17.849999999999998|\n",
      "|        5.7|       3.8|        1.7|       0.3| setosa|             21.66|\n",
      "|        5.1|       3.8|        1.5|       0.3| setosa|             19.38|\n",
      "+-----------+----------+-----------+----------+-------+------------------+\n",
      "only showing top 20 rows\n",
      "\n"
     ]
    }
   ],
   "source": [
    "# operating on columns using select\n",
    "df.select('*', (df.SepalLength * df.SepalWidth).alias('SepalArea')).show()"
   ]
  },
  {
   "cell_type": "code",
   "execution_count": 15,
   "id": "3aa9c345-5727-4d5e-8005-251fb71067e4",
   "metadata": {},
   "outputs": [
    {
     "name": "stdout",
     "output_type": "stream",
     "text": [
      "+-----------+----------+-----------+----------+-------+------------------+\n",
      "|SepalLength|SepalWidth|PetalLength|PetalWidth|Species|         SepalArea|\n",
      "+-----------+----------+-----------+----------+-------+------------------+\n",
      "|        5.1|       3.5|        1.4|       0.2| setosa|17.849999999999998|\n",
      "|        4.9|       3.0|        1.4|       0.2| setosa|14.700000000000001|\n",
      "|        4.7|       3.2|        1.3|       0.2| setosa|15.040000000000001|\n",
      "|        4.6|       3.1|        1.5|       0.2| setosa|             14.26|\n",
      "|        5.0|       3.6|        1.4|       0.2| setosa|              18.0|\n",
      "|        5.4|       3.9|        1.7|       0.4| setosa|21.060000000000002|\n",
      "|        4.6|       3.4|        1.4|       0.3| setosa|15.639999999999999|\n",
      "|        5.0|       3.4|        1.5|       0.2| setosa|              17.0|\n",
      "|        4.4|       2.9|        1.4|       0.2| setosa|             12.76|\n",
      "|        4.9|       3.1|        1.5|       0.1| setosa|15.190000000000001|\n",
      "|        5.4|       3.7|        1.5|       0.2| setosa|19.980000000000004|\n",
      "|        4.8|       3.4|        1.6|       0.2| setosa|             16.32|\n",
      "|        4.8|       3.0|        1.4|       0.1| setosa|14.399999999999999|\n",
      "|        4.3|       3.0|        1.1|       0.1| setosa|12.899999999999999|\n",
      "|        5.8|       4.0|        1.2|       0.2| setosa|              23.2|\n",
      "|        5.7|       4.4|        1.5|       0.4| setosa|25.080000000000002|\n",
      "|        5.4|       3.9|        1.3|       0.4| setosa|21.060000000000002|\n",
      "|        5.1|       3.5|        1.4|       0.3| setosa|17.849999999999998|\n",
      "|        5.7|       3.8|        1.7|       0.3| setosa|             21.66|\n",
      "|        5.1|       3.8|        1.5|       0.3| setosa|             19.38|\n",
      "+-----------+----------+-----------+----------+-------+------------------+\n",
      "only showing top 20 rows\n",
      "\n"
     ]
    }
   ],
   "source": [
    "# operating on columns (and adding a new one)\n",
    "df = df.withColumn(\"SepalArea\", df.SepalLength * df.SepalWidth)\n",
    "df.show()"
   ]
  },
  {
   "cell_type": "code",
   "execution_count": 16,
   "id": "e9dda2cc-3a52-4228-927a-d5c862ae7725",
   "metadata": {},
   "outputs": [
    {
     "name": "stdout",
     "output_type": "stream",
     "text": [
      "+-----------+----------+-----------+----------+-------+\n",
      "|SepalLength|SepalWidth|PetalLength|PetalWidth|Species|\n",
      "+-----------+----------+-----------+----------+-------+\n",
      "|        5.1|       3.5|        1.4|       0.2| setosa|\n",
      "|        4.9|       3.0|        1.4|       0.2| setosa|\n",
      "|        4.7|       3.2|        1.3|       0.2| setosa|\n",
      "|        4.6|       3.1|        1.5|       0.2| setosa|\n",
      "|        5.0|       3.6|        1.4|       0.2| setosa|\n",
      "|        5.4|       3.9|        1.7|       0.4| setosa|\n",
      "|        4.6|       3.4|        1.4|       0.3| setosa|\n",
      "|        5.0|       3.4|        1.5|       0.2| setosa|\n",
      "|        4.4|       2.9|        1.4|       0.2| setosa|\n",
      "|        4.9|       3.1|        1.5|       0.1| setosa|\n",
      "|        5.4|       3.7|        1.5|       0.2| setosa|\n",
      "|        4.8|       3.4|        1.6|       0.2| setosa|\n",
      "|        4.8|       3.0|        1.4|       0.1| setosa|\n",
      "|        4.3|       3.0|        1.1|       0.1| setosa|\n",
      "|        5.8|       4.0|        1.2|       0.2| setosa|\n",
      "|        5.7|       4.4|        1.5|       0.4| setosa|\n",
      "|        5.4|       3.9|        1.3|       0.4| setosa|\n",
      "|        5.1|       3.5|        1.4|       0.3| setosa|\n",
      "|        5.7|       3.8|        1.7|       0.3| setosa|\n",
      "|        5.1|       3.8|        1.5|       0.3| setosa|\n",
      "+-----------+----------+-----------+----------+-------+\n",
      "only showing top 20 rows\n",
      "\n"
     ]
    }
   ],
   "source": [
    "# remove an attribute from the Spark DataFrame\n",
    "df = df.drop(df.SepalArea)\n",
    "df.show()"
   ]
  },
  {
   "cell_type": "code",
   "execution_count": 17,
   "id": "1073562d-721b-4c50-8c70-7ca1da160681",
   "metadata": {},
   "outputs": [
    {
     "name": "stdout",
     "output_type": "stream",
     "text": [
      "overall number of entries:  150\n",
      "remove entries with a SepalLength below 4.5:  4\n",
      "resulting DataFrame (without the 4 entries):  146\n",
      "+-----------+----------+-----------+----------+-------+\n",
      "|SepalLength|SepalWidth|PetalLength|PetalWidth|Species|\n",
      "+-----------+----------+-----------+----------+-------+\n",
      "|        5.1|       3.5|        1.4|       0.2| setosa|\n",
      "|        4.9|       3.0|        1.4|       0.2| setosa|\n",
      "|        4.7|       3.2|        1.3|       0.2| setosa|\n",
      "|        4.6|       3.1|        1.5|       0.2| setosa|\n",
      "|        5.0|       3.6|        1.4|       0.2| setosa|\n",
      "|        5.4|       3.9|        1.7|       0.4| setosa|\n",
      "|        4.6|       3.4|        1.4|       0.3| setosa|\n",
      "|        5.0|       3.4|        1.5|       0.2| setosa|\n",
      "|        4.9|       3.1|        1.5|       0.1| setosa|\n",
      "|        5.4|       3.7|        1.5|       0.2| setosa|\n",
      "|        4.8|       3.4|        1.6|       0.2| setosa|\n",
      "|        4.8|       3.0|        1.4|       0.1| setosa|\n",
      "|        5.8|       4.0|        1.2|       0.2| setosa|\n",
      "|        5.7|       4.4|        1.5|       0.4| setosa|\n",
      "|        5.4|       3.9|        1.3|       0.4| setosa|\n",
      "|        5.1|       3.5|        1.4|       0.3| setosa|\n",
      "|        5.7|       3.8|        1.7|       0.3| setosa|\n",
      "|        5.1|       3.8|        1.5|       0.3| setosa|\n",
      "|        5.4|       3.4|        1.7|       0.2| setosa|\n",
      "|        5.1|       3.7|        1.5|       0.4| setosa|\n",
      "+-----------+----------+-----------+----------+-------+\n",
      "only showing top 20 rows\n",
      "\n"
     ]
    }
   ],
   "source": [
    "# the API provides drop(), dropna() and dropDuplicates(); drop() is applied to\n",
    "# remove columns! we use filter() to sort out some rows from the DataFrame\n",
    "print('overall number of entries: ', df.count())\n",
    "print('remove entries with a SepalLength below 4.5: ', df.filter(df.SepalLength < 4.5).count())\n",
    "print('resulting DataFrame (without the 4 entries): ', df.filter(df.SepalLength >= 4.5).count())\n",
    "df.filter(df.SepalLength >= 4.5).show()\n",
    "# store back to df if the removal should be persisted!"
   ]
  },
  {
   "cell_type": "markdown",
   "id": "57f82a57-6f80-4f29-8a73-aa7cdfab0700",
   "metadata": {},
   "source": [
    "## Applying a custom function on a Spark DataFrame"
   ]
  },
  {
   "cell_type": "code",
   "execution_count": 18,
   "id": "b452f2a0-cd0a-4d6e-9325-460dbfb51b3e",
   "metadata": {},
   "outputs": [
    {
     "name": "stdout",
     "output_type": "stream",
     "text": [
      "+-----------+----------+-----------+----------+-------------------+\n",
      "|SepalLength|SepalWidth|PetalLength|PetalWidth|            Species|\n",
      "+-----------+----------+-----------+----------+-------------------+\n",
      "|        5.1|       3.5|        1.4|       0.2|Some setosa species|\n",
      "|        4.9|       3.0|        1.4|       0.2|Some setosa species|\n",
      "|        4.7|       3.2|        1.3|       0.2|Some setosa species|\n",
      "|        4.6|       3.1|        1.5|       0.2|Some setosa species|\n",
      "|        5.0|       3.6|        1.4|       0.2|Some setosa species|\n",
      "|        5.4|       3.9|        1.7|       0.4|Some setosa species|\n",
      "|        4.6|       3.4|        1.4|       0.3|Some setosa species|\n",
      "|        5.0|       3.4|        1.5|       0.2|Some setosa species|\n",
      "|        4.4|       2.9|        1.4|       0.2|Some setosa species|\n",
      "|        4.9|       3.1|        1.5|       0.1|Some setosa species|\n",
      "|        5.4|       3.7|        1.5|       0.2|Some setosa species|\n",
      "|        4.8|       3.4|        1.6|       0.2|Some setosa species|\n",
      "|        4.8|       3.0|        1.4|       0.1|Some setosa species|\n",
      "|        4.3|       3.0|        1.1|       0.1|Some setosa species|\n",
      "|        5.8|       4.0|        1.2|       0.2|Some setosa species|\n",
      "|        5.7|       4.4|        1.5|       0.4|Some setosa species|\n",
      "|        5.4|       3.9|        1.3|       0.4|Some setosa species|\n",
      "|        5.1|       3.5|        1.4|       0.3|Some setosa species|\n",
      "|        5.7|       3.8|        1.7|       0.3|Some setosa species|\n",
      "|        5.1|       3.8|        1.5|       0.3|Some setosa species|\n",
      "+-----------+----------+-----------+----------+-------------------+\n",
      "only showing top 20 rows\n",
      "\n"
     ]
    }
   ],
   "source": [
    "import pyspark.sql.functions as f\n",
    "\n",
    "df.withColumn(\n",
    "    \"Species\",\n",
    "    f.when(\n",
    "        f.col(\"Species\") == \"setosa\",\n",
    "        \"Some setosa species\"\n",
    "    ).when(\n",
    "        f.col(\"Species\") != \"setosa\",\n",
    "        \"Something else\"\n",
    "    )\n",
    ").show()\n",
    "\n",
    "# allows applying more complex transformation operations on the data, e.g.\n",
    "# data correction algorithms or even classifier..."
   ]
  },
  {
   "cell_type": "markdown",
   "id": "968d1681-85b3-49e2-9a4a-c915ec91d4a8",
   "metadata": {},
   "source": [
    "## Calculating descriptive statistics about a Spark DataFrame"
   ]
  },
  {
   "cell_type": "code",
   "execution_count": 19,
   "id": "7ac1062e-06aa-4fb3-9dd0-1ae8bde57d0b",
   "metadata": {},
   "outputs": [
    {
     "name": "stdout",
     "output_type": "stream",
     "text": [
      "+-------+------------------+------------------+------------------+------------------+---------+\n",
      "|summary|       SepalLength|        SepalWidth|       PetalLength|        PetalWidth|  Species|\n",
      "+-------+------------------+------------------+------------------+------------------+---------+\n",
      "|  count|               150|               150|               150|               150|      150|\n",
      "|   mean| 5.843333333333334|3.0573333333333332|3.7580000000000005|1.1993333333333331|     null|\n",
      "| stddev|0.8280661279778632|0.4358662849366984| 1.765298233259466|0.7622376689603464|     null|\n",
      "|    min|               4.3|               2.0|               1.0|               0.1|   setosa|\n",
      "|    max|               7.9|               4.4|               6.9|               2.5|virginica|\n",
      "+-------+------------------+------------------+------------------+------------------+---------+\n",
      "\n"
     ]
    }
   ],
   "source": [
    "# descriptive statistics about DataFrame\n",
    "df.describe().show()"
   ]
  },
  {
   "cell_type": "code",
   "execution_count": 20,
   "id": "cf43ea99-289a-4351-bedb-5a9a433525f0",
   "metadata": {},
   "outputs": [],
   "source": [
    "# close session properly\n",
    "spark.stop()"
   ]
  }
 ],
 "metadata": {
  "kernelspec": {
   "display_name": "Python 3 (ipykernel)",
   "language": "python",
   "name": "python3"
  },
  "language_info": {
   "codemirror_mode": {
    "name": "ipython",
    "version": 3
   },
   "file_extension": ".py",
   "mimetype": "text/x-python",
   "name": "python",
   "nbconvert_exporter": "python",
   "pygments_lexer": "ipython3",
   "version": "3.11.4"
  }
 },
 "nbformat": 4,
 "nbformat_minor": 5
}
