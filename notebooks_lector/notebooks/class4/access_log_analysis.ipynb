{
 "cells": [
  {
   "cell_type": "code",
   "execution_count": 1,
   "id": "d7a0ff80-8870-40a8-a1ee-691e52ed4636",
   "metadata": {},
   "outputs": [],
   "source": [
    "from pyspark.sql import SparkSession"
   ]
  },
  {
   "cell_type": "code",
   "execution_count": 2,
   "id": "cfb381f5-7d48-408a-8571-47a3a85382ec",
   "metadata": {},
   "outputs": [
    {
     "name": "stderr",
     "output_type": "stream",
     "text": [
      "Setting default log level to \"WARN\".\n",
      "To adjust logging level use sc.setLogLevel(newLevel). For SparkR, use setLogLevel(newLevel).\n",
      "24/05/22 17:54:40 WARN NativeCodeLoader: Unable to load native-hadoop library for your platform... using builtin-java classes where applicable\n"
     ]
    }
   ],
   "source": [
    "spark = SparkSession.builder \\\n",
    "    .appName(\"PySpark Access Logs\") \\\n",
    "    .master(\"spark://172.29.16.102:7077\") \\\n",
    "    .getOrCreate()"
   ]
  },
  {
   "cell_type": "code",
   "execution_count": 3,
   "id": "4a15a5af-3696-4949-af68-3c60e3467547",
   "metadata": {},
   "outputs": [],
   "source": [
    "import pandas as pd"
   ]
  },
  {
   "cell_type": "code",
   "execution_count": 4,
   "id": "62c7f239-f021-47d4-8e93-39e146aec966",
   "metadata": {},
   "outputs": [],
   "source": [
    "logs_df = pd.read_csv('listpw.csv')"
   ]
  },
  {
   "cell_type": "code",
   "execution_count": 5,
   "id": "2601e57e-603a-4ab7-89c2-be4cb755a1bc",
   "metadata": {},
   "outputs": [
    {
     "data": {
      "text/html": [
       "<div>\n",
       "<style scoped>\n",
       "    .dataframe tbody tr th:only-of-type {\n",
       "        vertical-align: middle;\n",
       "    }\n",
       "\n",
       "    .dataframe tbody tr th {\n",
       "        vertical-align: top;\n",
       "    }\n",
       "\n",
       "    .dataframe thead th {\n",
       "        text-align: right;\n",
       "    }\n",
       "</style>\n",
       "<table border=\"1\" class=\"dataframe\">\n",
       "  <thead>\n",
       "    <tr style=\"text-align: right;\">\n",
       "      <th></th>\n",
       "      <th>date</th>\n",
       "      <th>time</th>\n",
       "      <th>user</th>\n",
       "      <th>password</th>\n",
       "    </tr>\n",
       "  </thead>\n",
       "  <tbody>\n",
       "    <tr>\n",
       "      <th>0</th>\n",
       "      <td>3/23/2022</td>\n",
       "      <td>22:54:06</td>\n",
       "      <td>NaN</td>\n",
       "      <td>NaN</td>\n",
       "    </tr>\n",
       "    <tr>\n",
       "      <th>1</th>\n",
       "      <td>3/23/2022</td>\n",
       "      <td>22:54:26</td>\n",
       "      <td>user</td>\n",
       "      <td>1</td>\n",
       "    </tr>\n",
       "    <tr>\n",
       "      <th>2</th>\n",
       "      <td>3/23/2022</td>\n",
       "      <td>22:54:49</td>\n",
       "      <td>NaN</td>\n",
       "      <td>NaN</td>\n",
       "    </tr>\n",
       "    <tr>\n",
       "      <th>3</th>\n",
       "      <td>3/23/2022</td>\n",
       "      <td>22:55:49</td>\n",
       "      <td>NaN</td>\n",
       "      <td>NaN</td>\n",
       "    </tr>\n",
       "    <tr>\n",
       "      <th>4</th>\n",
       "      <td>3/23/2022</td>\n",
       "      <td>22:56:24</td>\n",
       "      <td>NaN</td>\n",
       "      <td>NaN</td>\n",
       "    </tr>\n",
       "  </tbody>\n",
       "</table>\n",
       "</div>"
      ],
      "text/plain": [
       "        date      time  user password\n",
       "0  3/23/2022  22:54:06   NaN      NaN\n",
       "1  3/23/2022  22:54:26  user        1\n",
       "2  3/23/2022  22:54:49   NaN      NaN\n",
       "3  3/23/2022  22:55:49   NaN      NaN\n",
       "4  3/23/2022  22:56:24   NaN      NaN"
      ]
     },
     "execution_count": 5,
     "metadata": {},
     "output_type": "execute_result"
    }
   ],
   "source": [
    "logs_df.head()"
   ]
  },
  {
   "cell_type": "code",
   "execution_count": 6,
   "id": "5f0170de-1594-439f-bb35-ca7eacf7e8f8",
   "metadata": {},
   "outputs": [
    {
     "data": {
      "text/plain": [
       "date        15211\n",
       "time        15211\n",
       "user        14234\n",
       "password    10634\n",
       "dtype: int64"
      ]
     },
     "execution_count": 6,
     "metadata": {},
     "output_type": "execute_result"
    }
   ],
   "source": [
    "logs_df.count()"
   ]
  },
  {
   "cell_type": "code",
   "execution_count": 7,
   "id": "9abff4a7-53b4-4752-a9d3-7cfbd40ed016",
   "metadata": {},
   "outputs": [],
   "source": [
    "users = logs_df['user'].to_list()"
   ]
  },
  {
   "cell_type": "code",
   "execution_count": 8,
   "id": "e8101079-25ea-460a-bcf8-93e6373ff913",
   "metadata": {},
   "outputs": [],
   "source": [
    "sc = spark.sparkContext"
   ]
  },
  {
   "cell_type": "code",
   "execution_count": 9,
   "id": "7e9a7f73-7650-45bf-89ce-0654e8f42327",
   "metadata": {},
   "outputs": [],
   "source": [
    "log_rdd = sc.parallelize(users)"
   ]
  },
  {
   "cell_type": "code",
   "execution_count": 10,
   "id": "20afbb23-ade1-41a9-9c6d-1dbae004f762",
   "metadata": {},
   "outputs": [
    {
     "data": {
      "text/plain": [
       "2"
      ]
     },
     "execution_count": 10,
     "metadata": {},
     "output_type": "execute_result"
    }
   ],
   "source": [
    "log_rdd.getNumPartitions()"
   ]
  },
  {
   "cell_type": "code",
   "execution_count": 15,
   "id": "8000fc77-bb95-4a54-914d-5e3c666e5ab1",
   "metadata": {},
   "outputs": [
    {
     "data": {
      "text/plain": [
       "[nan, nan, 'root', 'root', 'root']"
      ]
     },
     "execution_count": 15,
     "metadata": {},
     "output_type": "execute_result"
    }
   ],
   "source": [
    "log_rdd.takeSample(num = 5, withReplacement = False)"
   ]
  },
  {
   "cell_type": "code",
   "execution_count": 16,
   "id": "9323b6b1-0a22-4399-97fe-2902e31208ad",
   "metadata": {},
   "outputs": [],
   "source": [
    "def mapper(user):\n",
    "    return (str(user), 1)"
   ]
  },
  {
   "cell_type": "code",
   "execution_count": 17,
   "id": "56cd9811-f527-420b-b039-cdc7535de92d",
   "metadata": {},
   "outputs": [],
   "source": [
    "mapped_rdd = log_rdd.map(mapper)"
   ]
  },
  {
   "cell_type": "code",
   "execution_count": 20,
   "id": "39b4e6f4-afc1-4ca7-bcdf-37867c0e0545",
   "metadata": {},
   "outputs": [
    {
     "data": {
      "text/plain": [
       "[('admin', 1), ('root', 1), ('nan', 1), ('root', 1), ('root', 1)]"
      ]
     },
     "execution_count": 20,
     "metadata": {},
     "output_type": "execute_result"
    }
   ],
   "source": [
    "mapped_rdd.takeSample(num = 5, withReplacement = False)"
   ]
  },
  {
   "cell_type": "code",
   "execution_count": 21,
   "id": "cfb2adfc-cd65-4b63-9c00-0c0f6eff0c18",
   "metadata": {},
   "outputs": [],
   "source": [
    "def reducer(count1, count2):\n",
    "    return count1 + count2"
   ]
  },
  {
   "cell_type": "code",
   "execution_count": 22,
   "id": "288af850-aea5-4ad3-8fd0-9c99ce9f9567",
   "metadata": {},
   "outputs": [],
   "source": [
    "route_counts = mapped_rdd.reduceByKey(reducer)"
   ]
  },
  {
   "cell_type": "code",
   "execution_count": 23,
   "id": "210523b7-8cfe-4d6a-8f9d-13ead2ed33b9",
   "metadata": {},
   "outputs": [
    {
     "data": {
      "text/plain": [
       "[('db2inst1', 2),\n",
       " ('micom', 2),\n",
       " ('spark', 1),\n",
       " ('plcmspip', 10),\n",
       " ('monitor', 12)]"
      ]
     },
     "execution_count": 23,
     "metadata": {},
     "output_type": "execute_result"
    }
   ],
   "source": [
    "route_counts.takeSample(num = 5, withReplacement = False)"
   ]
  },
  {
   "cell_type": "code",
   "execution_count": 24,
   "id": "557c3d54-c766-4bc7-aff5-0b505ce6b64d",
   "metadata": {},
   "outputs": [],
   "source": [
    "sorted_routes = route_counts.sortBy(lambda x: x[1], ascending=False)"
   ]
  },
  {
   "cell_type": "code",
   "execution_count": 27,
   "id": "6b8f5763-a99b-4f19-9cef-14ead2cd1b90",
   "metadata": {},
   "outputs": [
    {
     "data": {
      "text/plain": [
       "396"
      ]
     },
     "execution_count": 27,
     "metadata": {},
     "output_type": "execute_result"
    }
   ],
   "source": [
    "len(sorted_routes.collect())"
   ]
  },
  {
   "cell_type": "code",
   "execution_count": 26,
   "id": "e59302a2-a2bd-4f86-9d47-1ae359d02850",
   "metadata": {},
   "outputs": [
    {
     "name": "stdout",
     "output_type": "stream",
     "text": [
      "User: root, Access Count: 9644\n",
      "User: admin, Access Count: 1476\n",
      "User: nan, Access Count: 977\n",
      "User: user, Access Count: 417\n",
      "User: Administrator, Access Count: 229\n",
      "User: identification, Access Count: 136\n",
      "User: 111111, Access Count: 120\n",
      "User: support, Access Count: 109\n",
      "User: test, Access Count: 108\n",
      "User: ubnt, Access Count: 103\n",
      "User: 1234, Access Count: 74\n",
      "User: 123321, Access Count: 71\n",
      "User: guest, Access Count: 56\n",
      "User: ftpuser, Access Count: 56\n",
      "User: oracle, Access Count: 47\n",
      "User: adm, Access Count: 45\n",
      "User: ftp, Access Count: 45\n",
      "User: pi, Access Count: 45\n",
      "User: administrator, Access Count: 44\n",
      "User: operator, Access Count: 38\n",
      "User: super, Access Count: 37\n",
      "User: ubuntu, Access Count: 36\n",
      "User: default, Access Count: 34\n",
      "User: manager, Access Count: 34\n",
      "User: master, Access Count: 34\n",
      "User: usuario, Access Count: 33\n",
      "User: nagios, Access Count: 33\n",
      "User: 123, Access Count: 31\n",
      "User: Admin, Access Count: 29\n",
      "User: mos, Access Count: 22\n",
      "User: sshd, Access Count: 21\n",
      "User: user1, Access Count: 21\n",
      "User: nobody, Access Count: 21\n",
      "User: postgres, Access Count: 20\n",
      "User: uucp, Access Count: 18\n",
      "User: 22, Access Count: 16\n",
      "User: backup, Access Count: 16\n",
      "User: test2, Access Count: 14\n",
      "User: client, Access Count: 14\n",
      "User: test1, Access Count: 14\n",
      "User: telecomadmin, Access Count: 13\n",
      "User: service, Access Count: 13\n",
      "User: monitor, Access Count: 12\n",
      "User: testuser, Access Count: 12\n",
      "User: system, Access Count: 11\n",
      "User: aDmin, Access Count: 11\n",
      "User: cirros, Access Count: 10\n",
      "User: debian, Access Count: 10\n",
      "User: raspberry, Access Count: 10\n",
      "User: plcmspip, Access Count: 10\n",
      "User: anonymous, Access Count: 9\n",
      "User: superadmin, Access Count: 9\n",
      "User: demo, Access Count: 8\n",
      "User: 123456789a, Access Count: 8\n",
      "User: 12345670, Access Count: 8\n",
      "User: 10101010, Access Count: 8\n",
      "User: 00001111, Access Count: 8\n",
      "User: 12345, Access Count: 8\n",
      "User: git, Access Count: 8\n",
      "User: helpdesk, Access Count: 8\n",
      "User: zabbix, Access Count: 8\n",
      "User: 1018632814, Access Count: 8\n",
      "User: 1010101010, Access Count: 8\n",
      "User: blank, Access Count: 7\n",
      "User: 0123456789, Access Count: 7\n",
      "User: kyivstar, Access Count: 6\n",
      "User: none, Access Count: 6\n",
      "User: usernam, Access Count: 6\n",
      "User: 1029384756, Access Count: 6\n",
      "User: info, Access Count: 6\n",
      "User: supervisor, Access Count: 6\n",
      "User: shutting, Access Count: 6\n",
      "User: volumio, Access Count: 5\n",
      "User: ethos, Access Count: 5\n",
      "User: 0, Access Count: 5\n",
      "User: PlcmSpIp, Access Count: 5\n",
      "User: odoo, Access Count: 5\n",
      "User: agent, Access Count: 5\n",
      "User: sysadmin, Access Count: 5\n",
      "User: config, Access Count: 5\n",
      "User: totaladmin, Access Count: 5\n",
      "User: a, Access Count: 5\n",
      "User: engineer, Access Count: 5\n",
      "User: john, Access Count: 5\n",
      "User: mysql, Access Count: 5\n",
      "User: ansible, Access Count: 5\n",
      "User: Eproot, Access Count: 5\n",
      "User: noc, Access Count: 5\n",
      "User: !root, Access Count: 4\n",
      "User: jenkins, Access Count: 4\n",
      "User: public, Access Count: 4\n",
      "User: aD-min.123, Access Count: 4\n",
      "User: 123Admin, Access Count: 4\n",
      "User: mine, Access Count: 4\n",
      "User: miner, Access Count: 4\n",
      "User: vagrant, Access Count: 4\n",
      "User: alarm, Access Count: 4\n",
      "User: 01010101, Access Count: 4\n",
      "User: 01234567, Access Count: 4\n",
      "User: 2Wire, Access Count: 4\n",
      "User: cisco, Access Count: 4\n",
      "User: prueba, Access Count: 4\n",
      "User: ts3, Access Count: 4\n",
      "User: webmaster, Access Count: 4\n",
      "User: xbmc, Access Count: 4\n",
      "User: (none, Access Count: 4\n",
      "User: vodafone, Access Count: 4\n",
      "User: 1010101, Access Count: 4\n",
      "User: 1234567, Access Count: 4\n",
      "User: 12345678, Access Count: 4\n",
      "User: ro-ot.123, Access Count: 4\n",
      "User: 123Root, Access Count: 4\n",
      "User: aDDmin, Access Count: 4\n",
      "User: 012345678, Access Count: 4\n",
      "User: apache, Access Count: 3\n",
      "User: tomcat, Access Count: 3\n",
      "User: bin, Access Count: 3\n",
      "User: api, Access Count: 3\n",
      "User: webadmin, Access Count: 3\n",
      "User: bob, Access Count: 3\n",
      "User: mtcl, Access Count: 3\n",
      "User: unknown, Access Count: 3\n",
      "User: listd, Access Count: 3\n",
      "User: contador, Access Count: 3\n",
      "User: monitoring, Access Count: 3\n",
      "User: Spacenet, Access Count: 3\n",
      "User: (none), Access Count: 3\n",
      "User: kafka, Access Count: 3\n",
      "User: aaron, Access Count: 3\n",
      "User: 101, Access Count: 3\n",
      "User: am, Access Count: 3\n",
      "User: daemon, Access Count: 3\n",
      "User: david, Access Count: 3\n",
      "User: installer, Access Count: 3\n",
      "User: m, Access Count: 3\n",
      "User: media, Access Count: 3\n",
      "User: mother, Access Count: 3\n",
      "User: osmc, Access Count: 3\n",
      "User: student, Access Count: 3\n",
      "User: tech, Access Count: 3\n",
      "User: username, Access Count: 3\n",
      "User: telnet, Access Count: 3\n",
      "User: gns3, Access Count: 3\n",
      "User: 1111, Access Count: 2\n",
      "User: adfexc, Access Count: 2\n",
      "User: admin2, Access Count: 2\n",
      "User: carlos, Access Count: 2\n",
      "User: comcast, Access Count: 2\n",
      "User: radware, Access Count: 2\n",
      "User: reboot, Access Count: 2\n",
      "User: steve, Access Count: 2\n",
      "User: svin, Access Count: 2\n",
      "User: svn, Access Count: 2\n",
      "User: sys, Access Count: 2\n",
      "User: sysadm, Access Count: 2\n",
      "User: USERID, Access Count: 2\n",
      "User: webconfig, Access Count: 2\n",
      "User: nsroot, Access Count: 2\n",
      "User: maint, Access Count: 2\n",
      "User: pupkin, Access Count: 2\n",
      "User: baikal, Access Count: 2\n",
      "User: telekom, Access Count: 2\n",
      "User: D-Link, Access Count: 2\n",
      "User: console, Access Count: 2\n",
      "User: 123root, Access Count: 2\n",
      "User: osteam, Access Count: 2\n",
      "User: Admin123, Access Count: 2\n",
      "User: [user], Access Count: 2\n",
      "User: Root, Access Count: 2\n",
      "User: ump_corp_cnt, Access Count: 2\n",
      "User: ely, Access Count: 2\n",
      "User: 1, Access Count: 2\n",
      "User: qtc404, Access Count: 2\n",
      "User: net, Access Count: 2\n",
      "User: test123, Access Count: 2\n",
      "User: ftptest, Access Count: 2\n",
      "User: superman, Access Count: 2\n",
      "User: setup, Access Count: 2\n",
      "User: scan, Access Count: 2\n",
      "User: dvs, Access Count: 2\n",
      "User: daniel, Access Count: 2\n",
      "User: hello, Access Count: 2\n",
      "User: adam, Access Count: 2\n",
      "User: nuucp, Access Count: 2\n",
      "User: install, Access Count: 2\n",
      "User: vyatta, Access Count: 2\n",
      "User: enrique, Access Count: 2\n",
      "User: diag, Access Count: 2\n",
      "User: 254, Access Count: 2\n",
      "User: 3comcso, Access Count: 2\n",
      "User: 666666, Access Count: 2\n",
      "User: chris, Access Count: 2\n",
      "User: login, Access Count: 2\n",
      "User: router, Access Count: 2\n",
      "User: shutdown, Access Count: 2\n",
      "User: steam, Access Count: 2\n",
      "User: music, Access Count: 2\n",
      "User: duni, Access Count: 2\n",
      "User: mts, Access Count: 2\n",
      "User: rO-ot.123, Access Count: 2\n",
      "User: Root123, Access Count: 2\n",
      "User: MikroTikSystem, Access Count: 2\n",
      "User: rOot123, Access Count: 2\n",
      "User: (blank), Access Count: 2\n",
      "User: mgts, Access Count: 2\n",
      "User: aDmin123, Access Count: 2\n",
      "User: {null}, Access Count: 2\n",
      "User: micom, Access Count: 2\n",
      "User: seanet, Access Count: 2\n",
      "User: 2C5NX, Access Count: 2\n",
      "User: telkom, Access Count: 2\n",
      "User: gpadmin, Access Count: 2\n",
      "User: lenovo, Access Count: 2\n",
      "User: nutanix, Access Count: 2\n",
      "User: db2inst1, Access Count: 2\n",
      "User: admin1, Access Count: 2\n",
      "User: mike, Access Count: 2\n",
      "User: fake, Access Count: 2\n",
      "User: ossuser, Access Count: 1\n",
      "User: ADMN, Access Count: 1\n",
      "User: amanda, Access Count: 1\n",
      "User: anna, Access Count: 1\n",
      "User: bill, Access Count: 1\n",
      "User: echo, Access Count: 1\n",
      "User: fax, Access Count: 1\n",
      "User: mailman, Access Count: 1\n",
      "User: naadmin, Access Count: 1\n",
      "User: password, Access Count: 1\n",
      "User: Polycom, Access Count: 1\n",
      "User: roadmin, Access Count: 1\n",
      "User: sales, Access Count: 1\n",
      "User: target, Access Count: 1\n",
      "User: telecom, Access Count: 1\n",
      "User: ubadmin, Access Count: 1\n",
      "User: vcr, Access Count: 1\n",
      "User: volition, Access Count: 1\n",
      "User: VTech, Access Count: 1\n",
      "User: gituser, Access Count: 1\n",
      "User: ec2-user, Access Count: 1\n",
      "User: spark, Access Count: 1\n",
      "User: ftpadmin, Access Count: 1\n",
      "User: arnaudpolska-pl, Access Count: 1\n",
      "User: lenny, Access Count: 1\n",
      "User: smtp, Access Count: 1\n",
      "User: cat, Access Count: 1\n",
      "User: toor, Access Count: 1\n",
      "User: ggg, Access Count: 1\n",
      "User: 1e905c, Access Count: 1\n",
      "User: auction, Access Count: 1\n",
      "User: software, Access Count: 1\n",
      "User: vpn, Access Count: 1\n",
      "User: sftpuser, Access Count: 1\n",
      "User: pal, Access Count: 1\n",
      "User: joe, Access Count: 1\n",
      "User: monolit1, Access Count: 1\n",
      "User: vmware, Access Count: 1\n",
      "User: postmaster, Access Count: 1\n",
      "User: eurek, Access Count: 1\n",
      "User: centos, Access Count: 1\n",
      "User: sansforensics, Access Count: 1\n",
      "User: debug, Access Count: 1\n",
      "User: Guest, Access Count: 1\n",
      "User: admin123, Access Count: 1\n",
      "User: 2, Access Count: 1\n",
      "User: security, Access Count: 1\n",
      "User: ro, Access Count: 1\n",
      "User: dadmin, Access Count: 1\n",
      "User: accounting, Access Count: 1\n",
      "User: JDE, Access Count: 1\n",
      "User: RO, Access Count: 1\n",
      "User: cameras, Access Count: 1\n",
      "User: sa, Access Count: 1\n",
      "User: samsung, Access Count: 1\n",
      "User: arris, Access Count: 1\n",
      "User: superuser, Access Count: 1\n",
      "User: mailadmin, Access Count: 1\n",
      "User: qpgmr, Access Count: 1\n",
      "User: zyfwp, Access Count: 1\n",
      "User: teste, Access Count: 1\n",
      "User: w, Access Count: 1\n",
      "User: hacluster, Access Count: 1\n",
      "User: provedor, Access Count: 1\n",
      "User: sam, Access Count: 1\n",
      "User: akash, Access Count: 1\n",
      "User: 11, Access Count: 1\n",
      "User: cgtadmin, Access Count: 1\n",
      "User: dnet, Access Count: 1\n",
      "User: cifywrite, Access Count: 1\n",
      "User: admin.kcynia.net, Access Count: 1\n",
      "User: noroestenet, Access Count: 1\n",
      "User: beetec, Access Count: 1\n",
      "User: SupTech, Access Count: 1\n",
      "User: desk, Access Count: 1\n",
      "User: root123, Access Count: 1\n",
      "User: Administrator from 192.168.99.1 port 46588 ssh2 (target: 162.20.0.10:122, password: zxcvbnm,./), Access Count: 1\n",
      "User: admin from 192.168.99.1 port 45652 ssh2 (target: 162.20.0.10:122, password: zxcvbnm,./), Access Count: 1\n",
      "User: root from 192.168.99.1 port 48474 ssh2 (target: 162.20.0.10:122, password: zxcvbnm,./), Access Count: 1\n",
      "User: Sujan, Access Count: 1\n",
      "User: wp, Access Count: 1\n",
      "User: dell, Access Count: 1\n",
      "User: chy, Access Count: 1\n",
      "User: cohesity, Access Count: 1\n",
      "User: svnuser, Access Count: 1\n",
      "User: nfsnobod, Access Count: 1\n",
      "User: onlime_r, Access Count: 1\n",
      "User: ziggo, Access Count: 1\n",
      "User: ADMIN, Access Count: 1\n",
      "User: hscroot, Access Count: 1\n",
      "User: factory, Access Count: 1\n",
      "User: sconsole, Access Count: 1\n",
      "User: lp, Access Count: 1\n",
      "User: pw, Access Count: 1\n",
      "User: 11111111, Access Count: 1\n",
      "User: cusadmin, Access Count: 1\n",
      "User: recover, Access Count: 1\n",
      "User: apc, Access Count: 1\n",
      "User: patrol, Access Count: 1\n",
      "User: 1024, Access Count: 1\n",
      "User: db2admin, Access Count: 1\n",
      "User: DOCSIS_APP, Access Count: 1\n",
      "User: SUPERVISOR, Access Count: 1\n",
      "User: l2, Access Count: 1\n",
      "User: rw, Access Count: 1\n",
      "User: recovery, Access Count: 1\n",
      "User: informix, Access Count: 1\n",
      "User: xbox, Access Count: 1\n",
      "User: RPM, Access Count: 1\n",
      "User: super from 192.168.99.1 port 43989 ssh2 (target: 162.20.0.10:122, password: zxcvbnm,./), Access Count: 1\n",
      "User: avin, Access Count: 1\n",
      "User: backing, Access Count: 1\n",
      "User: bantuan, Access Count: 1\n",
      "User: aamra, Access Count: 1\n",
      "User: zip, Access Count: 1\n",
      "User: edatel, Access Count: 1\n",
      "User: tanuj, Access Count: 1\n",
      "User: ziel, Access Count: 1\n",
      "User: ganesh, Access Count: 1\n",
      "User: lanin, Access Count: 1\n",
      "User: pedro, Access Count: 1\n",
      "User: stenio, Access Count: 1\n",
      "User: monoceros, Access Count: 1\n",
      "User: anurag, Access Count: 1\n",
      "User: sadmin, Access Count: 1\n",
      "User: Serik, Access Count: 1\n",
      "User: super from 192.168.99.1 port 47908 ssh2 (target: 162.20.0.10:122, password: zxcvbnm,./), Access Count: 1\n",
      "User: butter, Access Count: 1\n",
      "User: es, Access Count: 1\n",
      "User: suse-gm, Access Count: 1\n",
      "User: debianuser, Access Count: 1\n",
      "User: dmdba, Access Count: 1\n",
      "User: teamspeak, Access Count: 1\n",
      "User: hadoop, Access Count: 1\n",
      "User: jojo, Access Count: 1\n",
      "User: 1502, Access Count: 1\n",
      "User: 266344, Access Count: 1\n",
      "User: 888888, Access Count: 1\n",
      "User: aaa, Access Count: 1\n",
      "User: acc, Access Count: 1\n",
      "User: alex, Access Count: 1\n",
      "User: camera, Access Count: 1\n",
      "User: draytek, Access Count: 1\n",
      "User: erdefault, Access Count: 1\n",
      "User: library, Access Count: 1\n",
      "User: mark, Access Count: 1\n",
      "User: mtch, Access Count: 1\n",
      "User: NAU, Access Count: 1\n",
      "User: netman, Access Count: 1\n",
      "User: nt, Access Count: 1\n",
      "User: pizza, Access Count: 1\n",
      "User: pos, Access Count: 1\n",
      "User: print2000, Access Count: 1\n",
      "User: PRODDTA, Access Count: 1\n",
      "User: PSEAdmin, Access Count: 1\n",
      "User: rapport, Access Count: 1\n",
      "User: rcust, Access Count: 1\n",
      "User: shop, Access Count: 1\n",
      "User: Sweex, Access Count: 1\n",
      "User: SYSDBA, Access Count: 1\n",
      "User: telco, Access Count: 1\n",
      "User: test9, Access Count: 1\n",
      "User: tushar, Access Count: 1\n",
      "User: upload, Access Count: 1\n",
      "User: VNC, Access Count: 1\n",
      "User: vt100, Access Count: 1\n",
      "User: www, Access Count: 1\n",
      "User: weblogic, Access Count: 1\n",
      "User: eseasonminbak, Access Count: 1\n",
      "User: db2inst2, Access Count: 1\n",
      "User: github, Access Count: 1\n",
      "User: dummy, Access Count: 1\n",
      "User: suporte, Access Count: 1\n",
      "User: minecraft, Access Count: 1\n",
      "User: openvpn, Access Count: 1\n",
      "User: moon, Access Count: 1\n",
      "User: amy, Access Count: 1\n",
      "User: stackato, Access Count: 1\n"
     ]
    }
   ],
   "source": [
    "for route, count in sorted_routes.collect():\n",
    "    print(f\"User: {route}, Access Count: {count}\")"
   ]
  },
  {
   "cell_type": "code",
   "execution_count": 28,
   "id": "893b57bf-6823-4d8d-bc8b-9b97319b8c4d",
   "metadata": {},
   "outputs": [],
   "source": [
    "spark.stop()"
   ]
  },
  {
   "cell_type": "code",
   "execution_count": null,
   "id": "37de15d8-6140-4b97-a83f-688e8654fe1c",
   "metadata": {},
   "outputs": [],
   "source": []
  }
 ],
 "metadata": {
  "kernelspec": {
   "display_name": "Python 3 (ipykernel)",
   "language": "python",
   "name": "python3"
  },
  "language_info": {
   "codemirror_mode": {
    "name": "ipython",
    "version": 3
   },
   "file_extension": ".py",
   "mimetype": "text/x-python",
   "name": "python",
   "nbconvert_exporter": "python",
   "pygments_lexer": "ipython3",
   "version": "3.11.9"
  }
 },
 "nbformat": 4,
 "nbformat_minor": 5
}
