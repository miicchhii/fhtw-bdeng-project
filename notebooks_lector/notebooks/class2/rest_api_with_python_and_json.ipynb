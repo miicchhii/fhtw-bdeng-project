{
 "cells": [
  {
   "cell_type": "markdown",
   "id": "9f1e4f45-b229-4950-9bac-70a82e187f14",
   "metadata": {},
   "source": [
    "# REST API with Python and JSON"
   ]
  },
  {
   "cell_type": "markdown",
   "id": "32adf294-ae99-492a-8049-a160865aab98",
   "metadata": {},
   "source": [
    "## `json` library"
   ]
  },
  {
   "cell_type": "markdown",
   "id": "0991ebff-3859-4210-bfb1-ffc36191fca9",
   "metadata": {},
   "source": [
    "`json` is the main library for json handling in python: https://docs.python.org/3/library/json.html"
   ]
  },
  {
   "cell_type": "code",
   "execution_count": 1,
   "id": "eaa62bed-792c-424d-94c7-57d3533a2ce1",
   "metadata": {},
   "outputs": [],
   "source": [
    "import json"
   ]
  },
  {
   "cell_type": "markdown",
   "id": "e76125df-2809-4b2c-9072-a1f18862b7bf",
   "metadata": {},
   "source": [
    "Using JSON in Python is very simple because JSON maps perfectly into lists and dictionaries.\n",
    "\n",
    "The `json.dumps()` function takes a python object and serializes it into JSON. "
   ]
  },
  {
   "cell_type": "code",
   "execution_count": 2,
   "id": "6fbe41d1-c20e-411e-bf99-8e6f1d4f458d",
   "metadata": {},
   "outputs": [
    {
     "data": {
      "text/plain": [
       "'{\"name\": \"Sam Doe\", \"job\": {\"company\": \"Google\", \"position\": \"Software Developer\"}}'"
      ]
     },
     "execution_count": 2,
     "metadata": {},
     "output_type": "execute_result"
    }
   ],
   "source": [
    "data = {}\n",
    "data['name'] = 'Sam Doe'\n",
    "data['job'] = {}\n",
    "data['job']['company'] = 'Google'\n",
    "data['job']['position'] = 'Software Developer'\n",
    "\n",
    "json.dumps(data)"
   ]
  },
  {
   "cell_type": "markdown",
   "id": "f95bdd21-9f03-452a-ba15-fb9293f0253d",
   "metadata": {},
   "source": [
    "The `json.loads()` takes a string containing valid JSON and deserializes it into a python dictionary or list as appropriate. "
   ]
  },
  {
   "cell_type": "code",
   "execution_count": 3,
   "id": "99d0deb0-756a-46d8-aae7-2151795a7f3e",
   "metadata": {},
   "outputs": [
    {
     "data": {
      "text/plain": [
       "{'name': 'Sam Doe',\n",
       " 'job': {'company': 'Google', 'position': 'Software Developer'}}"
      ]
     },
     "execution_count": 3,
     "metadata": {},
     "output_type": "execute_result"
    }
   ],
   "source": [
    "string = '{\"name\": \"Sam Doe\", \"job\": {\"company\": \"Google\", \"position\": \"Software Developer\"}}'\n",
    "\n",
    "json.loads(string)"
   ]
  },
  {
   "cell_type": "markdown",
   "id": "d30a445e-7ed8-4065-b009-60fcdae8c3ae",
   "metadata": {},
   "source": [
    "The same approach work for lists:"
   ]
  },
  {
   "cell_type": "code",
   "execution_count": 4,
   "id": "c363a340-c800-4ec9-9d3b-d561e3145e92",
   "metadata": {},
   "outputs": [
    {
     "name": "stdout",
     "output_type": "stream",
     "text": [
      "[{\"color\": \"red\"}, {\"color\": \"blue\"}]\n"
     ]
    }
   ],
   "source": [
    "list = []\n",
    "\n",
    "list.append({'color': 'red'})\n",
    "list.append({'color': 'blue'})\n",
    "\n",
    "print(json.dumps(list))"
   ]
  },
  {
   "cell_type": "code",
   "execution_count": 5,
   "id": "7749cb8c-e99a-414e-9fc8-45d2cdb7a4c7",
   "metadata": {},
   "outputs": [
    {
     "data": {
      "text/plain": [
       "2"
      ]
     },
     "execution_count": 5,
     "metadata": {},
     "output_type": "execute_result"
    }
   ],
   "source": [
    "string = '[{\"color\": \"red\"}, {\"color\": \"blue\"}]'\n",
    "\n",
    "len(json.loads(string))"
   ]
  },
  {
   "cell_type": "markdown",
   "id": "1d1a1ae6-aa01-4ebb-85fe-754503f244ed",
   "metadata": {},
   "source": [
    "## JSON API and ```requests```"
   ]
  },
  {
   "cell_type": "markdown",
   "id": "0ba9d3f9-92c7-407d-b21a-2d44dca56c39",
   "metadata": {},
   "source": [
    "```requests``` is the main library for HTTP requests in python: https://requests.readthedocs.io/en/latest/"
   ]
  },
  {
   "cell_type": "code",
   "execution_count": 6,
   "id": "c7177d39-19e6-46fb-bd94-6857db66004e",
   "metadata": {},
   "outputs": [],
   "source": [
    "import requests"
   ]
  },
  {
   "cell_type": "markdown",
   "id": "8716e7f7-92c4-44c2-a720-c36dec3d6f92",
   "metadata": {},
   "source": [
    "We are going to start playing with the `requests` library by using the Star Wars API (affectionately known as 'swapi') to send some simple GET requests. Swapi is a huge collection of data from the Star Wars universe organised in such a way that all the information can be accessed through an API.\n",
    "\n",
    "How do you work out what the API call should be? The API documentation. Every API will have it's own unique URL structure and parameters that it expects in a HTTP request in order for you to access it's data, and the best way to check this is the documentation. The documentation for Swapi can be found here.\n",
    "\n",
    "Using the Swapi documentation as a guide, let's make our first request:"
   ]
  },
  {
   "cell_type": "code",
   "execution_count": 7,
   "id": "e92fd995-3dda-4676-9f61-2bd0a679a38a",
   "metadata": {},
   "outputs": [],
   "source": [
    "r = requests.get('https://swapi.dev/api/planets/1/')"
   ]
  },
  {
   "cell_type": "markdown",
   "id": "f1f936c0-d6f8-4944-aa41-b14820c2ab2a",
   "metadata": {},
   "source": [
    "The first thing to confirm is whether the request was successful, which you can do by checking the `status_code` of the response:"
   ]
  },
  {
   "cell_type": "code",
   "execution_count": 8,
   "id": "6dc57685-984e-4c52-a024-8e3e93bb2aef",
   "metadata": {},
   "outputs": [
    {
     "data": {
      "text/plain": [
       "200"
      ]
     },
     "execution_count": 8,
     "metadata": {},
     "output_type": "execute_result"
    }
   ],
   "source": [
    "r.status_code"
   ]
  },
  {
   "cell_type": "markdown",
   "id": "62e5a78e-1d0e-4c68-8886-dd328c65ca97",
   "metadata": {},
   "source": [
    "A status code of 200 is the standard response of a successful HTTP request. If you get a code other than 200 and you aren't getting the response from the API you were expecting, it's worth finding out what the status code means to help you figure out what you need to do to fix your request. A helpful list of HTTP status codes and their meanings can be found in the same place as everything else nowadays - Wikipedia."
   ]
  },
  {
   "cell_type": "markdown",
   "id": "ef655ea2-3088-4635-827c-7e6102d4b5b7",
   "metadata": {},
   "source": [
    "Now for the juicy bit of the response, the content. You can check the contents of the response using `text` field, or if the response is in the format of JSON, the `json()` method:"
   ]
  },
  {
   "cell_type": "code",
   "execution_count": 9,
   "id": "d95bb709-3388-4745-86a9-5957a5efc051",
   "metadata": {},
   "outputs": [
    {
     "data": {
      "text/plain": [
       "'{\"name\":\"Tatooine\",\"rotation_period\":\"23\",\"orbital_period\":\"304\",\"diameter\":\"10465\",\"climate\":\"arid\",\"gravity\":\"1 standard\",\"terrain\":\"desert\",\"surface_water\":\"1\",\"population\":\"200000\",\"residents\":[\"https://swapi.dev/api/people/1/\",\"https://swapi.dev/api/people/2/\",\"https://swapi.dev/api/people/4/\",\"https://swapi.dev/api/people/6/\",\"https://swapi.dev/api/people/7/\",\"https://swapi.dev/api/people/8/\",\"https://swapi.dev/api/people/9/\",\"https://swapi.dev/api/people/11/\",\"https://swapi.dev/api/people/43/\",\"https://swapi.dev/api/people/62/\"],\"films\":[\"https://swapi.dev/api/films/1/\",\"https://swapi.dev/api/films/3/\",\"https://swapi.dev/api/films/4/\",\"https://swapi.dev/api/films/5/\",\"https://swapi.dev/api/films/6/\"],\"created\":\"2014-12-09T13:50:49.641000Z\",\"edited\":\"2014-12-20T20:58:18.411000Z\",\"url\":\"https://swapi.dev/api/planets/1/\"}'"
      ]
     },
     "execution_count": 9,
     "metadata": {},
     "output_type": "execute_result"
    }
   ],
   "source": [
    "r.text"
   ]
  },
  {
   "cell_type": "code",
   "execution_count": 10,
   "id": "2dfd8612-ddb7-4587-9a4e-c8a2792f23be",
   "metadata": {},
   "outputs": [
    {
     "data": {
      "text/plain": [
       "{'name': 'Tatooine',\n",
       " 'rotation_period': '23',\n",
       " 'orbital_period': '304',\n",
       " 'diameter': '10465',\n",
       " 'climate': 'arid',\n",
       " 'gravity': '1 standard',\n",
       " 'terrain': 'desert',\n",
       " 'surface_water': '1',\n",
       " 'population': '200000',\n",
       " 'residents': ['https://swapi.dev/api/people/1/',\n",
       "  'https://swapi.dev/api/people/2/',\n",
       "  'https://swapi.dev/api/people/4/',\n",
       "  'https://swapi.dev/api/people/6/',\n",
       "  'https://swapi.dev/api/people/7/',\n",
       "  'https://swapi.dev/api/people/8/',\n",
       "  'https://swapi.dev/api/people/9/',\n",
       "  'https://swapi.dev/api/people/11/',\n",
       "  'https://swapi.dev/api/people/43/',\n",
       "  'https://swapi.dev/api/people/62/'],\n",
       " 'films': ['https://swapi.dev/api/films/1/',\n",
       "  'https://swapi.dev/api/films/3/',\n",
       "  'https://swapi.dev/api/films/4/',\n",
       "  'https://swapi.dev/api/films/5/',\n",
       "  'https://swapi.dev/api/films/6/'],\n",
       " 'created': '2014-12-09T13:50:49.641000Z',\n",
       " 'edited': '2014-12-20T20:58:18.411000Z',\n",
       " 'url': 'https://swapi.dev/api/planets/1/'}"
      ]
     },
     "execution_count": 10,
     "metadata": {},
     "output_type": "execute_result"
    }
   ],
   "source": [
    "r.json()"
   ]
  },
  {
   "cell_type": "markdown",
   "id": "f4c330a0-ac27-433f-9a77-3fea9c72d977",
   "metadata": {},
   "source": [
    "The key (and possibly obvious) difference between the above is that `text` will return the contents as a unicode string, whilst the `.json()` method will return a JSON object. This means with the second option, we can use Python dictionary notation to obtain specific content in the request:"
   ]
  },
  {
   "cell_type": "code",
   "execution_count": 11,
   "id": "e32ae9b8-2311-44d9-aab0-df746ba245f2",
   "metadata": {},
   "outputs": [
    {
     "data": {
      "text/plain": [
       "'Tatooine'"
      ]
     },
     "execution_count": 11,
     "metadata": {},
     "output_type": "execute_result"
    }
   ],
   "source": [
    "data = r.json()\n",
    "\n",
    "data['name']"
   ]
  }
 ],
 "metadata": {
  "kernelspec": {
   "display_name": "Python 3 (ipykernel)",
   "language": "python",
   "name": "python3"
  },
  "language_info": {
   "codemirror_mode": {
    "name": "ipython",
    "version": 3
   },
   "file_extension": ".py",
   "mimetype": "text/x-python",
   "name": "python",
   "nbconvert_exporter": "python",
   "pygments_lexer": "ipython3",
   "version": "3.11.4"
  }
 },
 "nbformat": 4,
 "nbformat_minor": 5
}
