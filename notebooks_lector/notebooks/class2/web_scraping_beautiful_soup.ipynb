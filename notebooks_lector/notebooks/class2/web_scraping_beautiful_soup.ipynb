{
 "cells": [
  {
   "cell_type": "markdown",
   "id": "355a33b2-1c28-4e1e-acee-ef34014789f0",
   "metadata": {},
   "source": [
    "# Web Scraping with Beautiful Soup"
   ]
  },
  {
   "cell_type": "markdown",
   "id": "424815dd-a6df-4b04-9f75-2770ec1fa1b8",
   "metadata": {},
   "source": [
    "Beautiful Soup is a popular Python library for extracting data from HTML and XML documents. It simplifies parsing the complex structure of these markup languages by creating a tree-like representation. This allows you to easily navigate, search, and manipulate the content using Pythonic idioms.\r\n",
    "\r\n",
    "Beautiful Soup is a powerful tool for web scraping tasks, where you can automatically collect information from websites.\r\n",
    "\r\n",
    "For more details and extensive documentation, refer to the Beautiful Soup official website: Beautiful Soup Documentation: https://www.crummy.com/software/BeautifulSoup/bs4/doc/."
   ]
  },
  {
   "cell_type": "code",
   "execution_count": 1,
   "id": "ff3f4928-c2f7-42a3-a98f-40c8c7ff7a56",
   "metadata": {},
   "outputs": [],
   "source": [
    "import requests\n",
    "from bs4 import BeautifulSoup"
   ]
  },
  {
   "cell_type": "code",
   "execution_count": 2,
   "id": "c6827e08-ad7e-4a0d-90e1-5d0b27c5b3d7",
   "metadata": {},
   "outputs": [],
   "source": [
    "r = requests.get('http://www.pythonscraping.com/pages/warandpeace.html')\n",
    "html = r.text"
   ]
  },
  {
   "cell_type": "code",
   "execution_count": 3,
   "id": "093530ba-4a84-4c5d-b8d5-ae6314c9a6a2",
   "metadata": {},
   "outputs": [
    {
     "data": {
      "text/plain": [
       "'<html>\\n<head>\\n<style>\\n.green{\\n\\tcolor:#55ff55;\\n}\\n.red{\\n\\tcolor:#ff5555;\\n}\\n#text{\\n\\twidth:50%;\\n}\\n</style>\\n</head>\\n<body>\\n<h1>War and Peace</h1>\\n<h2>Chapter 1</h2>\\n<div id=\"text\">\\n\"<span class=\"red\">Well, Prince, so Genoa and Lucca are now just family estates of the\\nBuonapartes. But I warn you, if you don\\'t tell me that this means war,\\nif you still try to defend the infamies and horrors perpetrated by\\nthat Antichrist- I really believe he is Antichrist- I will have\\nnothing more to do with you and you are no longer my friend, no longer\\nmy \\'faithful slave,\\' as you call yourself! But how do you do? I see\\nI have frightened you- sit down and tell me all the news.</span>\"\\n<p/>\\nIt was in July, 1805, and the speaker was the well-known <span class=\"green\">Anna\\nPavlovna Scherer</span>, maid of honor and favorite of the <span class=\"green\">Empress Marya\\nFedorovna</span>. With these words she greeted <span class=\"green\">Prince Vasili Kuragin</span>, a man\\nof high rank and importance, who was the first t...'"
      ]
     },
     "execution_count": 3,
     "metadata": {},
     "output_type": "execute_result"
    }
   ],
   "source": [
    "html[:1000] + '...'"
   ]
  },
  {
   "cell_type": "code",
   "execution_count": 4,
   "id": "0e02de25-1483-486e-9748-f6406c1a1173",
   "metadata": {},
   "outputs": [],
   "source": [
    "soup = BeautifulSoup(html, 'html.parser')"
   ]
  },
  {
   "cell_type": "markdown",
   "id": "e85b6f6f-6c81-4e47-ace4-fb51d01a94d4",
   "metadata": {},
   "source": [
    "We use `find_all` to search for all elements with tags listed in the square brackets (representing different heading levels). This creates a list of `Bs4` elements for each heading. We iterate through the list of headings and print the element."
   ]
  },
  {
   "cell_type": "code",
   "execution_count": 5,
   "id": "1eef278e-22de-434e-b18c-1feffcdd1380",
   "metadata": {},
   "outputs": [
    {
     "name": "stdout",
     "output_type": "stream",
     "text": [
      "<h1>War and Peace</h1>\n",
      "<h2>Chapter 1</h2>\n"
     ]
    }
   ],
   "source": [
    "titles = soup.find_all(['h1', 'h2','h3','h4','h5','h6'])\n",
    "\n",
    "for title in titles:\n",
    "    print(title)"
   ]
  },
  {
   "cell_type": "markdown",
   "id": "fb45c1bc-efaa-4d39-993c-c19234726ab1",
   "metadata": {},
   "source": [
    "We use `find_all` to search for all span elements where the class attribute is equal to \"green\". Note the use of the class_ keyword argument for clarity (equivalent to class=\"green\"). This creates a list of `Bs4` elements for each green span."
   ]
  },
  {
   "cell_type": "code",
   "execution_count": 6,
   "id": "51220dbb-57b0-4068-8da6-9bfa66cc69c6",
   "metadata": {},
   "outputs": [
    {
     "name": "stdout",
     "output_type": "stream",
     "text": [
      "Anna\n",
      "Pavlovna Scherer\n",
      "Empress Marya\n",
      "Fedorovna\n",
      "Prince Vasili Kuragin\n",
      "Anna Pavlovna\n",
      "St. Petersburg\n"
     ]
    }
   ],
   "source": [
    "# names = soup.find_all('span', {'class': 'green'})\n",
    "names = soup.find_all(\"span\", class_=\"green\")\n",
    "\n",
    "for name in names[:5]:\n",
    "    print(name.get_text())"
   ]
  }
 ],
 "metadata": {
  "kernelspec": {
   "display_name": "Python 3 (ipykernel)",
   "language": "python",
   "name": "python3"
  },
  "language_info": {
   "codemirror_mode": {
    "name": "ipython",
    "version": 3
   },
   "file_extension": ".py",
   "mimetype": "text/x-python",
   "name": "python",
   "nbconvert_exporter": "python",
   "pygments_lexer": "ipython3",
   "version": "3.11.4"
  }
 },
 "nbformat": 4,
 "nbformat_minor": 5
}
