{
 "cells": [
  {
   "cell_type": "markdown",
   "id": "70d0629c-5a1c-40d3-99e4-e2993b05a20c",
   "metadata": {},
   "source": [
    "# Kafa Python Consumer"
   ]
  },
  {
   "cell_type": "markdown",
   "id": "9c97ac86-5741-42e9-ae36-6c15a1bc77e3",
   "metadata": {},
   "source": [
    "You can install a new Python package within a Jupyter notebook cell by using an exclamation mark (`!`) followed by the `pip install` command and the package name. `confluent-kafka` is a Python library from one of the maintainers of Kafka that lets you write applications to publish and subscribe to real-time data streams on Kafka."
   ]
  },
  {
   "cell_type": "code",
   "execution_count": 1,
   "id": "8f5e4a8b-1d9a-4bfc-b679-6b3dc88ca961",
   "metadata": {},
   "outputs": [
    {
     "name": "stdout",
     "output_type": "stream",
     "text": [
      "Requirement already satisfied: confluent-kafka in /opt/conda/lib/python3.11/site-packages (2.3.0)\n"
     ]
    }
   ],
   "source": [
    "!pip install confluent-kafka"
   ]
  },
  {
   "cell_type": "markdown",
   "id": "a522261c-e1df-47cd-861c-16f5b58ab951",
   "metadata": {},
   "source": [
    "## Current Topics"
   ]
  },
  {
   "cell_type": "markdown",
   "id": "ba3cb9ef-cc27-4851-811b-9fde537346d1",
   "metadata": {},
   "source": [
    "Kafka topics act as channels for messages in an event streaming platform. Producers send data streams to specific topics, and consumers subscribe to those topics to receive the data. Imagine them as folders for categorized messages in a constantly flowing river of information. ou can write Python code using the `confluent_kafka.admin` library to programmatically list topics. This approach is useful if you want to integrate topic listing within your application."
   ]
  },
  {
   "cell_type": "code",
   "execution_count": 46,
   "id": "77d9479a-96c1-4f3b-a4d1-7265c2e4ffe3",
   "metadata": {},
   "outputs": [],
   "source": [
    "from confluent_kafka.admin import AdminClient"
   ]
  },
  {
   "cell_type": "code",
   "execution_count": 47,
   "id": "e0fb65ad-a87f-46bb-97d4-fc1474e5e9a0",
   "metadata": {},
   "outputs": [],
   "source": [
    "conf = {'bootstrap.servers': '172.29.16.101:9092'}\n",
    "\n",
    "kadmin = AdminClient(conf)"
   ]
  },
  {
   "cell_type": "code",
   "execution_count": 49,
   "id": "3fea1ef6-2554-4754-9c05-549bae0588ea",
   "metadata": {},
   "outputs": [
    {
     "data": {
      "text/plain": [
       "{'wikimedia-changes': TopicMetadata(wikimedia-changes, 1 partitions),\n",
       " 'roulette': TopicMetadata(roulette, 1 partitions),\n",
       " 'hello-world': TopicMetadata(hello-world, 1 partitions),\n",
       " '__consumer_offsets': TopicMetadata(__consumer_offsets, 50 partitions)}"
      ]
     },
     "execution_count": 49,
     "metadata": {},
     "output_type": "execute_result"
    }
   ],
   "source": [
    "kadmin.list_topics().topics"
   ]
  },
  {
   "cell_type": "markdown",
   "id": "7868c015-7306-4b62-9242-cdcd1c94c7fb",
   "metadata": {},
   "source": [
    "## Kafka Consumer"
   ]
  },
  {
   "cell_type": "markdown",
   "id": "b2e7b4e4-f15b-40c7-ba2a-2efb0ce6c69d",
   "metadata": {},
   "source": [
    "A Kafka consumer is a program that listens for and processes messages from specific Kafka topics. Think of it as an ear in a bustling marketplace, tuned in to receive messages of interest published by producers."
   ]
  },
  {
   "cell_type": "code",
   "execution_count": 50,
   "id": "8b0fd292-ed0c-41b5-8027-7e9250bad29b",
   "metadata": {},
   "outputs": [],
   "source": [
    "from confluent_kafka import Consumer"
   ]
  },
  {
   "cell_type": "code",
   "execution_count": 66,
   "id": "ecf0ea20-0b8a-4f87-a189-ec95728e7eab",
   "metadata": {},
   "outputs": [],
   "source": [
    "conf = {'bootstrap.servers': '172.29.16.101:9092',\n",
    "        'group.id': 'note'}\n",
    "\n",
    "consumer = Consumer(conf)"
   ]
  },
  {
   "cell_type": "code",
   "execution_count": 63,
   "id": "2764243f-2dde-48fe-8040-d8f084ee4a0b",
   "metadata": {},
   "outputs": [
    {
     "name": "stdout",
     "output_type": "stream",
     "text": [
      "No msg\n"
     ]
    }
   ],
   "source": [
    "consumer.subscribe(['wikimedia-changes'])\n",
    "\n",
    "msg = consumer.poll(timeout=1.0)\n",
    "\n",
    "if msg is not None and msg.error():\n",
    "    if msg.error().code() == KafkaError._PARTITION_EOF:\n",
    "        # End of partition event\n",
    "        sys.stderr.write('%% %s [%d] reached end at offset %d\\n' %\n",
    "                         (msg.topic(), msg.partition(), msg.offset()))\n",
    "    # elif msg.error():\n",
    "        raise KafkaException(msg.error())\n",
    "elif msg is not None:\n",
    "    print(msg.value())\n",
    "else:\n",
    "    print('No msg')"
   ]
  },
  {
   "cell_type": "code",
   "execution_count": 67,
   "id": "1f2e1bfb-5a02-42f8-b85b-ed00521dd9ea",
   "metadata": {},
   "outputs": [
    {
     "name": "stdout",
     "output_type": "stream",
     "text": [
      "No msg\n",
      "No msg\n",
      "No msg\n",
      "No msg\n",
      "No msg\n",
      "No msg\n",
      "No msg\n",
      "b'{\"msg\": \"Hello World\", \"timestamp\": \"2024-03-25T13:47:39.561675\"}'\n",
      "No msg\n",
      "No msg\n",
      "No msg\n",
      "No msg\n",
      "No msg\n",
      "No msg\n",
      "No msg\n",
      "No msg\n",
      "No msg\n",
      "No msg\n",
      "No msg\n",
      "No msg\n",
      "No msg\n",
      "No msg\n",
      "No msg\n",
      "No msg\n"
     ]
    },
    {
     "ename": "KeyboardInterrupt",
     "evalue": "",
     "output_type": "error",
     "traceback": [
      "\u001b[0;31m---------------------------------------------------------------------------\u001b[0m",
      "\u001b[0;31mKeyboardInterrupt\u001b[0m                         Traceback (most recent call last)",
      "Cell \u001b[0;32mIn[67], line 4\u001b[0m\n\u001b[1;32m      1\u001b[0m consumer\u001b[38;5;241m.\u001b[39msubscribe([\u001b[38;5;124m'\u001b[39m\u001b[38;5;124mhello-world\u001b[39m\u001b[38;5;124m'\u001b[39m])\n\u001b[1;32m      3\u001b[0m \u001b[38;5;28;01mwhile\u001b[39;00m \u001b[38;5;28;01mTrue\u001b[39;00m:\n\u001b[0;32m----> 4\u001b[0m     msg \u001b[38;5;241m=\u001b[39m \u001b[43mconsumer\u001b[49m\u001b[38;5;241;43m.\u001b[39;49m\u001b[43mpoll\u001b[49m\u001b[43m(\u001b[49m\u001b[43mtimeout\u001b[49m\u001b[38;5;241;43m=\u001b[39;49m\u001b[38;5;241;43m1.0\u001b[39;49m\u001b[43m)\u001b[49m\n\u001b[1;32m      6\u001b[0m     \u001b[38;5;28;01mif\u001b[39;00m msg \u001b[38;5;129;01mis\u001b[39;00m \u001b[38;5;129;01mnot\u001b[39;00m \u001b[38;5;28;01mNone\u001b[39;00m \u001b[38;5;129;01mand\u001b[39;00m msg\u001b[38;5;241m.\u001b[39merror():\n\u001b[1;32m      7\u001b[0m         \u001b[38;5;28;01mif\u001b[39;00m msg\u001b[38;5;241m.\u001b[39merror()\u001b[38;5;241m.\u001b[39mcode() \u001b[38;5;241m==\u001b[39m KafkaError\u001b[38;5;241m.\u001b[39m_PARTITION_EOF:\n\u001b[1;32m      8\u001b[0m             \u001b[38;5;66;03m# End of partition event\u001b[39;00m\n",
      "\u001b[0;31mKeyboardInterrupt\u001b[0m: "
     ]
    }
   ],
   "source": [
    "consumer.subscribe(['hello-world'])\n",
    "\n",
    "while True:\n",
    "    msg = consumer.poll(timeout=1.0)\n",
    "        \n",
    "    if msg is not None and msg.error():\n",
    "        if msg.error().code() == KafkaError._PARTITION_EOF:\n",
    "            # End of partition event\n",
    "            sys.stderr.write('%% %s [%d] reached end at offset %d\\n' %\n",
    "                             (msg.topic(), msg.partition(), msg.offset()))\n",
    "        elif msg.error():\n",
    "            raise KafkaException(msg.error())\n",
    "    elif msg is not None:\n",
    "        print(msg.value())\n",
    "    else:\n",
    "        print('No msg')"
   ]
  },
  {
   "cell_type": "code",
   "execution_count": 64,
   "id": "1138ffd8-e3b0-49e7-9c94-a5f201d0e929",
   "metadata": {},
   "outputs": [],
   "source": [
    "consumer.close()"
   ]
  }
 ],
 "metadata": {
  "kernelspec": {
   "display_name": "Python 3 (ipykernel)",
   "language": "python",
   "name": "python3"
  },
  "language_info": {
   "codemirror_mode": {
    "name": "ipython",
    "version": 3
   },
   "file_extension": ".py",
   "mimetype": "text/x-python",
   "name": "python",
   "nbconvert_exporter": "python",
   "pygments_lexer": "ipython3",
   "version": "3.11.6"
  }
 },
 "nbformat": 4,
 "nbformat_minor": 5
}
