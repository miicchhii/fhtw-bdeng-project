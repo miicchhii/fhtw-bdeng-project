{
 "cells": [
  {
   "cell_type": "markdown",
   "id": "d4421c2f-f11a-4c27-bfd1-725874705ab5",
   "metadata": {},
   "source": [
    "# Kafka Python Producer"
   ]
  },
  {
   "cell_type": "markdown",
   "id": "a2f0b641-cf3a-4314-80d0-8d8970e9778b",
   "metadata": {},
   "source": [
    "You can install a new Python package within a Jupyter notebook cell by using an exclamation mark (`!`) followed by the `pip install` command and the package name. `confluent-kafka` is a Python library from one of the maintainers of Kafka that lets you write applications to publish and subscribe to real-time data streams on Kafka."
   ]
  },
  {
   "cell_type": "code",
   "execution_count": 1,
   "id": "d64f06fb-ea21-4308-9a21-8b389f3ba024",
   "metadata": {},
   "outputs": [
    {
     "name": "stdout",
     "output_type": "stream",
     "text": [
      "Collecting confluent-kafka\n",
      "  Downloading confluent_kafka-2.3.0-cp311-cp311-manylinux_2_17_x86_64.manylinux2014_x86_64.whl.metadata (2.3 kB)\n",
      "Downloading confluent_kafka-2.3.0-cp311-cp311-manylinux_2_17_x86_64.manylinux2014_x86_64.whl (4.0 MB)\n",
      "\u001b[2K   \u001b[90m━━━━━━━━━━━━━━━━━━━━━━━━━━━━━━━━━━━━━━━━\u001b[0m \u001b[32m4.0/4.0 MB\u001b[0m \u001b[31m14.9 MB/s\u001b[0m eta \u001b[36m0:00:00\u001b[0m00:01\u001b[0m00:01\u001b[0m\n",
      "\u001b[?25hInstalling collected packages: confluent-kafka\n",
      "Successfully installed confluent-kafka-2.3.0\n"
     ]
    }
   ],
   "source": [
    "!pip install confluent-kafka"
   ]
  },
  {
   "cell_type": "code",
   "execution_count": 25,
   "id": "3fffd09f-69e4-4205-a704-8c58fb737f12",
   "metadata": {},
   "outputs": [],
   "source": [
    "from confluent_kafka import Producer"
   ]
  },
  {
   "cell_type": "code",
   "execution_count": 26,
   "id": "4a5c0abb-b626-483c-a765-e639bccc5827",
   "metadata": {},
   "outputs": [],
   "source": [
    "conf = {'bootstrap.servers': '172.29.16.101:9092'}\n",
    "\n",
    "producer = Producer(conf)"
   ]
  },
  {
   "cell_type": "code",
   "execution_count": 27,
   "id": "40bd7b32-7dd5-41aa-9b1a-26d6a63391ec",
   "metadata": {},
   "outputs": [],
   "source": [
    "topic = 'hello-world'"
   ]
  },
  {
   "cell_type": "code",
   "execution_count": 46,
   "id": "85c942e8-d7f6-4dfa-a786-a20193b4b14b",
   "metadata": {},
   "outputs": [
    {
     "data": {
      "text/plain": [
       "1"
      ]
     },
     "execution_count": 46,
     "metadata": {},
     "output_type": "execute_result"
    }
   ],
   "source": [
    "from datetime import datetime\n",
    "import json\n",
    "\n",
    "data = { 'msg': 'Hello World', 'timestamp': datetime.now().isoformat() }\n",
    "\n",
    "producer.produce(topic, value=json.dumps(data))\n",
    "producer.flush(0)"
   ]
  },
  {
   "cell_type": "markdown",
   "id": "220817c4-dca8-4d3f-a6d0-825910cec00d",
   "metadata": {},
   "source": [
    "## Delete the topic"
   ]
  },
  {
   "cell_type": "code",
   "execution_count": 22,
   "id": "93a8b835-4caf-4081-b6b9-4b71fe24e30e",
   "metadata": {},
   "outputs": [],
   "source": [
    "from confluent_kafka.admin import AdminClient"
   ]
  },
  {
   "cell_type": "code",
   "execution_count": 23,
   "id": "e168fc3f-17b1-4ae6-8463-fcee050038ea",
   "metadata": {},
   "outputs": [],
   "source": [
    "conf = {'bootstrap.servers': '172.29.16.101:9092'}\n",
    "\n",
    "kadmin = AdminClient(conf)"
   ]
  },
  {
   "cell_type": "code",
   "execution_count": 24,
   "id": "99ffbc8a-3151-413c-bef5-bcd59ef6b2f1",
   "metadata": {},
   "outputs": [
    {
     "data": {
      "text/plain": [
       "{'hello-world': <Future at 0x7f4bcffddf90 state=running>}"
      ]
     },
     "execution_count": 24,
     "metadata": {},
     "output_type": "execute_result"
    }
   ],
   "source": [
    "kadmin.delete_topics([topic])"
   ]
  }
 ],
 "metadata": {
  "kernelspec": {
   "display_name": "Python 3 (ipykernel)",
   "language": "python",
   "name": "python3"
  },
  "language_info": {
   "codemirror_mode": {
    "name": "ipython",
    "version": 3
   },
   "file_extension": ".py",
   "mimetype": "text/x-python",
   "name": "python",
   "nbconvert_exporter": "python",
   "pygments_lexer": "ipython3",
   "version": "3.11.6"
  }
 },
 "nbformat": 4,
 "nbformat_minor": 5
}
