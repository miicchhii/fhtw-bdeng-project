{
 "cells": [
  {
   "cell_type": "markdown",
   "id": "43a8f373-0dcd-43a2-be73-f367995c1c8a",
   "metadata": {},
   "source": [
    "# Python Parquet"
   ]
  },
  {
   "cell_type": "markdown",
   "id": "a223f48b-140b-4758-8e25-06a0b19f4e36",
   "metadata": {},
   "source": [
    "Python's integration with Parquet offers a good combination for data analysis. Parquet's columnar storage and compression dramatically speed up reading large datasets, while Python libraries like Pandas seamlessly load and manipulate the data. This translates to faster processing, efficient memory usage, and a smoother workflow for tackling complex data tasks."
   ]
  },
  {
   "cell_type": "markdown",
   "id": "cc3935d3-8dc3-446b-be01-7cfb8d194532",
   "metadata": {},
   "source": [
    "## CSV to Parquet with Pandas"
   ]
  },
  {
   "cell_type": "markdown",
   "id": "6ee941ab-fec4-4632-9473-47fddd058c25",
   "metadata": {},
   "source": [
    "Pandas is a cornerstone Python library for data science. It provides high-performance data structures like DataFrames (think powerful spreadsheets) and Series (labeled arrays) for efficient data manipulation and analysis. Pandas empowers data scientists and analysts to seamlessly load, clean, transform, and ultimately unlock insights from complex datasets."
   ]
  },
  {
   "cell_type": "code",
   "execution_count": 1,
   "id": "62f1da3b-f132-4ad2-8561-1660d0cdfc52",
   "metadata": {},
   "outputs": [],
   "source": [
    "import pandas as pd"
   ]
  },
  {
   "cell_type": "code",
   "execution_count": 2,
   "id": "e3b5b72c-57a7-49ce-a919-9a725f3a993d",
   "metadata": {},
   "outputs": [
    {
     "data": {
      "text/html": [
       "<div>\n",
       "<style scoped>\n",
       "    .dataframe tbody tr th:only-of-type {\n",
       "        vertical-align: middle;\n",
       "    }\n",
       "\n",
       "    .dataframe tbody tr th {\n",
       "        vertical-align: top;\n",
       "    }\n",
       "\n",
       "    .dataframe thead th {\n",
       "        text-align: right;\n",
       "    }\n",
       "</style>\n",
       "<table border=\"1\" class=\"dataframe\">\n",
       "  <thead>\n",
       "    <tr style=\"text-align: right;\">\n",
       "      <th></th>\n",
       "      <th>full_name</th>\n",
       "      <th>birth_year</th>\n",
       "    </tr>\n",
       "  </thead>\n",
       "  <tbody>\n",
       "    <tr>\n",
       "      <th>0</th>\n",
       "      <td>teddy roosevelt</td>\n",
       "      <td>1901</td>\n",
       "    </tr>\n",
       "    <tr>\n",
       "      <th>1</th>\n",
       "      <td>abe lincoln</td>\n",
       "      <td>1809</td>\n",
       "    </tr>\n",
       "  </tbody>\n",
       "</table>\n",
       "</div>"
      ],
      "text/plain": [
       "         full_name  birth_year\n",
       "0  teddy roosevelt        1901\n",
       "1      abe lincoln        1809"
      ]
     },
     "execution_count": 2,
     "metadata": {},
     "output_type": "execute_result"
    }
   ],
   "source": [
    "# read CSV as a DataFrame\n",
    "df = pd.read_csv('data/us_presidents.csv')\n",
    "\n",
    "df"
   ]
  },
  {
   "cell_type": "code",
   "execution_count": 3,
   "id": "601d72cc-59c9-420d-b561-565193be9281",
   "metadata": {},
   "outputs": [],
   "source": [
    "# save DataFrame as parquet\n",
    "df.to_parquet('data/us_presidents.parquet')"
   ]
  },
  {
   "cell_type": "code",
   "execution_count": 4,
   "id": "89e8d79a-ac10-4b0d-9e95-7efd13b58ec9",
   "metadata": {},
   "outputs": [
    {
     "data": {
      "text/html": [
       "<div>\n",
       "<style scoped>\n",
       "    .dataframe tbody tr th:only-of-type {\n",
       "        vertical-align: middle;\n",
       "    }\n",
       "\n",
       "    .dataframe tbody tr th {\n",
       "        vertical-align: top;\n",
       "    }\n",
       "\n",
       "    .dataframe thead th {\n",
       "        text-align: right;\n",
       "    }\n",
       "</style>\n",
       "<table border=\"1\" class=\"dataframe\">\n",
       "  <thead>\n",
       "    <tr style=\"text-align: right;\">\n",
       "      <th></th>\n",
       "      <th>full_name</th>\n",
       "      <th>birth_year</th>\n",
       "    </tr>\n",
       "  </thead>\n",
       "  <tbody>\n",
       "    <tr>\n",
       "      <th>0</th>\n",
       "      <td>teddy roosevelt</td>\n",
       "      <td>1901</td>\n",
       "    </tr>\n",
       "    <tr>\n",
       "      <th>1</th>\n",
       "      <td>abe lincoln</td>\n",
       "      <td>1809</td>\n",
       "    </tr>\n",
       "  </tbody>\n",
       "</table>\n",
       "</div>"
      ],
      "text/plain": [
       "         full_name  birth_year\n",
       "0  teddy roosevelt        1901\n",
       "1      abe lincoln        1809"
      ]
     },
     "execution_count": 4,
     "metadata": {},
     "output_type": "execute_result"
    }
   ],
   "source": [
    "# read parquet as DataFrame\n",
    "df = pd.read_parquet('data/us_presidents.parquet')\n",
    "\n",
    "df"
   ]
  },
  {
   "cell_type": "markdown",
   "id": "e30cdc7d-413a-4185-8719-d48cf8cf0204",
   "metadata": {},
   "source": [
    "## CSV to Parquet with PySpark"
   ]
  },
  {
   "cell_type": "code",
   "execution_count": 5,
   "id": "f231b525-eb34-40d8-a95b-3c7580863fe7",
   "metadata": {},
   "outputs": [],
   "source": [
    "from pyspark.sql import SparkSession\n",
    "\n",
    "spark = SparkSession.builder \\\n",
    "  .master(\"local\") \\\n",
    "  .appName(\"parquet_example\") \\\n",
    "  .getOrCreate()"
   ]
  },
  {
   "cell_type": "code",
   "execution_count": 6,
   "id": "d5153597-359a-4b69-9497-54c77a37b38a",
   "metadata": {},
   "outputs": [
    {
     "name": "stdout",
     "output_type": "stream",
     "text": [
      "+---------------+----------+\n",
      "|      full_name|birth_year|\n",
      "+---------------+----------+\n",
      "|teddy roosevelt|      1901|\n",
      "|    abe lincoln|      1809|\n",
      "+---------------+----------+\n",
      "\n"
     ]
    }
   ],
   "source": [
    "data = spark.read \\\n",
    "    .csv('data/us_presidents.csv', header=True)\n",
    "\n",
    "data.show()"
   ]
  },
  {
   "cell_type": "code",
   "execution_count": 7,
   "id": "cb2b3669-9972-43e6-85d0-fe0943be0366",
   "metadata": {},
   "outputs": [],
   "source": [
    "data.repartition(1) \\\n",
    "    .write.mode('overwrite') \\\n",
    "    .parquet('data/pyspark_us_presidents')"
   ]
  },
  {
   "cell_type": "code",
   "execution_count": 8,
   "id": "ee583fa2-a5e9-4955-a1f3-53459fc05301",
   "metadata": {},
   "outputs": [
    {
     "name": "stdout",
     "output_type": "stream",
     "text": [
      "+---------------+----------+\n",
      "|      full_name|birth_year|\n",
      "+---------------+----------+\n",
      "|teddy roosevelt|      1901|\n",
      "|    abe lincoln|      1809|\n",
      "+---------------+----------+\n",
      "\n"
     ]
    }
   ],
   "source": [
    "data = spark.read.parquet('data/pyspark_us_presidents')\n",
    "\n",
    "data.show()"
   ]
  }
 ],
 "metadata": {
  "kernelspec": {
   "display_name": "Python 3 (ipykernel)",
   "language": "python",
   "name": "python3"
  },
  "language_info": {
   "codemirror_mode": {
    "name": "ipython",
    "version": 3
   },
   "file_extension": ".py",
   "mimetype": "text/x-python",
   "name": "python",
   "nbconvert_exporter": "python",
   "pygments_lexer": "ipython3",
   "version": "3.11.4"
  }
 },
 "nbformat": 4,
 "nbformat_minor": 5
}
