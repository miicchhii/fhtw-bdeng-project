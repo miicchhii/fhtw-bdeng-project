{
 "cells": [
  {
   "cell_type": "markdown",
   "id": "e82a3f68-5877-42f5-9937-433027595843",
   "metadata": {},
   "source": [
    "# Search documents for a word"
   ]
  },
  {
   "cell_type": "markdown",
   "id": "d299762d-501c-433d-a298-85d8fbafa24d",
   "metadata": {},
   "source": [
    "Python empowers you to scan through various file formats like txt, docx, PDF, and CSV for specific words. This unifies data from different sources, allowing you to extract keywords, trends, or specific terms. By automating the process with Python scripts, you can save time and ensure consistency. Furthermore, Python integrates with powerful data analysis libraries, enabling you to transform extracted information into meaningful insights that drive informed decisions.\r\n"
   ]
  },
  {
   "cell_type": "markdown",
   "id": "8cb87754-1854-4380-b803-22fb3e6cb136",
   "metadata": {},
   "source": [
    "## Search txt files"
   ]
  },
  {
   "cell_type": "code",
   "execution_count": 1,
   "id": "3d657dcc-5770-4683-bcd9-8af9dae03070",
   "metadata": {},
   "outputs": [],
   "source": [
    "from bs4 import UnicodeDammit"
   ]
  },
  {
   "cell_type": "code",
   "execution_count": 2,
   "id": "81894792-c001-4573-80fa-689e85286918",
   "metadata": {},
   "outputs": [],
   "source": [
    "def search_txt(filename, word):\n",
    "    # detect txt file encoding\n",
    "    with open(filename, 'rb') as file:\n",
    "        content = file.read(1024)\n",
    "\n",
    "    suggestion = UnicodeDammit(content)\n",
    "    encoding = suggestion.original_encoding\n",
    "\n",
    "    # read and search\n",
    "    with open(filename, encoding=encoding) as file:\n",
    "        for line in file:\n",
    "            if word in line.lower():\n",
    "                return True\n",
    "\n",
    "    return False"
   ]
  },
  {
   "cell_type": "code",
   "execution_count": 3,
   "id": "2ca3907f-eddb-45d0-9ace-e2d9838a6ecd",
   "metadata": {},
   "outputs": [
    {
     "data": {
      "text/plain": [
       "True"
      ]
     },
     "execution_count": 3,
     "metadata": {},
     "output_type": "execute_result"
    }
   ],
   "source": [
    "search_txt('data/documents/zen_of_python.txt', 'python')"
   ]
  },
  {
   "cell_type": "code",
   "execution_count": 4,
   "id": "b32d2cf9-8f81-41d3-8c49-ad3899bc441c",
   "metadata": {},
   "outputs": [
    {
     "data": {
      "text/plain": [
       "False"
      ]
     },
     "execution_count": 4,
     "metadata": {},
     "output_type": "execute_result"
    }
   ],
   "source": [
    "search_txt('data/documents/zen_of_python.txt', 'java')"
   ]
  },
  {
   "cell_type": "markdown",
   "id": "a64bf6db-cf99-44f9-860f-0f6dbee4cb1f",
   "metadata": {},
   "source": [
    "## Search CSV files"
   ]
  },
  {
   "cell_type": "code",
   "execution_count": 5,
   "id": "7954ccc7-1f88-47b4-ac6a-9ee060b4fb48",
   "metadata": {},
   "outputs": [],
   "source": [
    "import csv"
   ]
  },
  {
   "cell_type": "code",
   "execution_count": 6,
   "id": "e807b4b0-f014-4f13-bb5c-dde189853a3e",
   "metadata": {},
   "outputs": [],
   "source": [
    "def search_csv(filename, word):\n",
    "    with open(filename) as file:\n",
    "        for row in csv.reader(file):\n",
    "            for column in row:\n",
    "                if word in column.lower():\n",
    "                    return True\n",
    "\n",
    "    return False"
   ]
  },
  {
   "cell_type": "code",
   "execution_count": 7,
   "id": "961d6b20-44a3-46fa-91c6-255554fe8c6c",
   "metadata": {},
   "outputs": [
    {
     "data": {
      "text/plain": [
       "True"
      ]
     },
     "execution_count": 7,
     "metadata": {},
     "output_type": "execute_result"
    }
   ],
   "source": [
    "search_csv('data/documents/top_films.csv', 'spielberg')"
   ]
  },
  {
   "cell_type": "code",
   "execution_count": 8,
   "id": "fc4a6d2d-0c41-4d56-935f-9ca3feefbe83",
   "metadata": {},
   "outputs": [
    {
     "data": {
      "text/plain": [
       "False"
      ]
     },
     "execution_count": 8,
     "metadata": {},
     "output_type": "execute_result"
    }
   ],
   "source": [
    "search_csv('data/documents/top_films.csv', 'emmerich')"
   ]
  },
  {
   "cell_type": "markdown",
   "id": "c8a78f02-bb13-462e-9cb5-2bf5a3df18e3",
   "metadata": {},
   "source": [
    "## Search PDF files"
   ]
  },
  {
   "cell_type": "code",
   "execution_count": null,
   "id": "3b9c6705-b0e2-414f-a929-3fc4fbccf58e",
   "metadata": {},
   "outputs": [],
   "source": [
    "#!pip install PyPDF2"
   ]
  },
  {
   "cell_type": "code",
   "execution_count": 10,
   "id": "0be538bb-a43d-4260-a37b-2a4e477c9883",
   "metadata": {},
   "outputs": [],
   "source": [
    "from PyPDF2 import PdfReader"
   ]
  },
  {
   "cell_type": "code",
   "execution_count": 11,
   "id": "7370e747-047c-4539-a892-e26eece16f68",
   "metadata": {},
   "outputs": [],
   "source": [
    "def search_pdf(filename, word):\n",
    "    with open(filename, 'rb') as file:\n",
    "        pdf = PdfReader(file)\n",
    "\n",
    "        if pdf.is_encrypted:\n",
    "            return False\n",
    "\n",
    "        for page in pdf.pages:\n",
    "            text = page.extract_text()\n",
    "\n",
    "            if word in text.lower():\n",
    "                return True\n",
    "\n",
    "        return False"
   ]
  },
  {
   "cell_type": "markdown",
   "id": "abe9a8d2-c127-4ddb-bc72-8c88f6637cfe",
   "metadata": {},
   "source": [
    "## Search Microsoft Word files"
   ]
  },
  {
   "cell_type": "code",
   "execution_count": null,
   "id": "72accaa1-c772-459c-baec-458eacc49451",
   "metadata": {},
   "outputs": [],
   "source": [
    "#!pip install python-docx"
   ]
  },
  {
   "cell_type": "code",
   "execution_count": 13,
   "id": "676902a3-b53d-4e0a-892b-fbb6bc3574d4",
   "metadata": {},
   "outputs": [],
   "source": [
    "import docx"
   ]
  },
  {
   "cell_type": "code",
   "execution_count": 14,
   "id": "2b463002-04f7-41f2-a251-ebfdfa542dde",
   "metadata": {},
   "outputs": [],
   "source": [
    "def search_docx(filename, word):\n",
    "    doc = docx.Document(filename)\n",
    "    \n",
    "    for paragraph in doc.paragraphs:\n",
    "        if word in paragraph.text.lower():\n",
    "            return True\n",
    "\n",
    "    return False"
   ]
  },
  {
   "cell_type": "markdown",
   "id": "d0fea93a-2f75-473a-ac26-01abb0730cc3",
   "metadata": {},
   "source": [
    "## Search a whole folder for a word"
   ]
  },
  {
   "cell_type": "code",
   "execution_count": 15,
   "id": "12bba96e-f913-411f-af94-58395f31ed4f",
   "metadata": {},
   "outputs": [],
   "source": [
    "# define extension to function map\n",
    "EXTENSIONS = {\n",
    "    'txt': search_txt,\n",
    "    'csv': search_csv,\n",
    "    'pdf': search_pdf,\n",
    "    'docx': search_docx,\n",
    "}"
   ]
  },
  {
   "cell_type": "code",
   "execution_count": 16,
   "id": "1a5f64a3-2d08-4315-aafe-ac06998f3283",
   "metadata": {},
   "outputs": [],
   "source": [
    "import os"
   ]
  },
  {
   "cell_type": "code",
   "execution_count": 17,
   "id": "28a5410b-3005-4453-936b-fdfbed9418bf",
   "metadata": {},
   "outputs": [],
   "source": [
    "def search(folder, word):\n",
    "    for root, dirs, files in os.walk(folder):\n",
    "        for file in files:\n",
    "            # get file extension\n",
    "            extension = file.split('.')[-1]\n",
    "\n",
    "            if extension not in EXTENSIONS:\n",
    "                continue\n",
    "\n",
    "            search_func = EXTENSIONS.get(extension)\n",
    "            full_file_path = os.path.join(root, file)\n",
    "\n",
    "            if search_func(full_file_path, word):\n",
    "                print(f'>>> Word \"{word}\" found in {full_file_path}')"
   ]
  },
  {
   "cell_type": "code",
   "execution_count": 18,
   "id": "6adef823-f774-443e-b50a-12d6dcaae9fd",
   "metadata": {},
   "outputs": [
    {
     "name": "stdout",
     "output_type": "stream",
     "text": [
      ">>> Word \"python\" found in data/documents/zen_of_python.txt\n"
     ]
    }
   ],
   "source": [
    "search('data/documents', 'python')"
   ]
  }
 ],
 "metadata": {
  "kernelspec": {
   "display_name": "Python 3 (ipykernel)",
   "language": "python",
   "name": "python3"
  },
  "language_info": {
   "codemirror_mode": {
    "name": "ipython",
    "version": 3
   },
   "file_extension": ".py",
   "mimetype": "text/x-python",
   "name": "python",
   "nbconvert_exporter": "python",
   "pygments_lexer": "ipython3",
   "version": "3.11.4"
  }
 },
 "nbformat": 4,
 "nbformat_minor": 5
}
