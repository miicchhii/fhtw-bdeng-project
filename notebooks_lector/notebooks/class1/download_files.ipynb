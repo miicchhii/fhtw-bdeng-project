{
 "cells": [
  {
   "cell_type": "markdown",
   "id": "e6453808-4a9c-49d4-9662-936d71a5dde4",
   "metadata": {},
   "source": [
    "# Download files in Python"
   ]
  },
  {
   "cell_type": "markdown",
   "id": "fd5f95e7-54b1-46c7-9450-2c0d9fe22fbd",
   "metadata": {},
   "source": [
    "`requests` is the main library for HTTP requests in python: https://requests.readthedocs.io/en/latest/"
   ]
  },
  {
   "cell_type": "code",
   "execution_count": 1,
   "id": "3520de21-a41c-4464-a895-f48699e059e6",
   "metadata": {},
   "outputs": [],
   "source": [
    "import requests"
   ]
  },
  {
   "cell_type": "markdown",
   "id": "f0ef17be-da79-46d7-ad4e-203c35766f23",
   "metadata": {},
   "source": [
    "## Download an image"
   ]
  },
  {
   "cell_type": "code",
   "execution_count": 2,
   "id": "04945030-0116-45bf-8682-1bf35c25b2e1",
   "metadata": {},
   "outputs": [],
   "source": [
    "image_url = 'https://www.python.org/static/community_logos/python-logo-master-v3-TM.png'\n",
    "\n",
    "r = requests.get(image_url)"
   ]
  },
  {
   "cell_type": "code",
   "execution_count": 3,
   "id": "aad665bf-56a9-44ed-8902-33440746ec13",
   "metadata": {},
   "outputs": [],
   "source": [
    "with open('python_logo.png', 'wb') as image:\n",
    "    image.write(r.content)"
   ]
  },
  {
   "cell_type": "markdown",
   "id": "7047d9e4-9985-4980-859d-d41baea00e26",
   "metadata": {},
   "source": [
    "## Download a PDF"
   ]
  },
  {
   "cell_type": "code",
   "execution_count": 4,
   "id": "5f8ad7ac-7c14-4b7f-95b5-a7ea4be6fec8",
   "metadata": {},
   "outputs": [],
   "source": [
    "pdf_url = 'https://www.db-book.com/slides-dir/PDF-dir/ch1.pdf'\n",
    "\n",
    "r = requests.get(pdf_url)"
   ]
  },
  {
   "cell_type": "code",
   "execution_count": 5,
   "id": "82974cd3-7b22-4af6-af64-3ba2718cd86d",
   "metadata": {},
   "outputs": [],
   "source": [
    "with open('python.pdf', 'wb') as pdf:\n",
    "    for chunk in r.iter_content(chunk_size=1024):\n",
    "        if chunk:\n",
    "            pdf.write(chunk)"
   ]
  },
  {
   "cell_type": "markdown",
   "id": "9a147f92-6ad3-402b-b786-63c75d1ca61b",
   "metadata": {},
   "source": [
    "## Download a video from a website"
   ]
  },
  {
   "cell_type": "markdown",
   "id": "64ee2014-edd6-4b6f-8a97-8f65a3d63487",
   "metadata": {},
   "source": [
    "Beautiful Soup is a popular Python library for extracting data from HTML and XML documents. We will talk about it later in the course."
   ]
  },
  {
   "cell_type": "code",
   "execution_count": 6,
   "id": "ca0f1b83-d0eb-4479-b31f-9d3fbc3bf65b",
   "metadata": {},
   "outputs": [],
   "source": [
    "from bs4 import BeautifulSoup"
   ]
  },
  {
   "cell_type": "code",
   "execution_count": 7,
   "id": "da942c1d-a0e7-4393-9e09-949bb03feaf7",
   "metadata": {},
   "outputs": [],
   "source": [
    "url = 'https://www.loc.gov/item/98501222/'\n",
    "\n",
    "# get the HTML from the website\n",
    "r = requests.get(url)"
   ]
  },
  {
   "cell_type": "code",
   "execution_count": 8,
   "id": "c60868af-a76b-4e8a-a162-ee29238b3bfa",
   "metadata": {},
   "outputs": [],
   "source": [
    "# parse the HTML with Beautiful Soup\n",
    "soup = BeautifulSoup(r.content, 'html.parser')"
   ]
  },
  {
   "cell_type": "code",
   "execution_count": 9,
   "id": "c40ee846-2905-47ac-9809-eb251bb65c9c",
   "metadata": {},
   "outputs": [],
   "source": [
    "# find the video sources from that website\n",
    "link_mpeg = soup.select_one('source[type=\"application/x-mpegURL\"]')['src']\n",
    "link_mp4 = soup.select_one('source[type=\"video/mp4\"]')['src']"
   ]
  },
  {
   "cell_type": "code",
   "execution_count": 10,
   "id": "5005ffbb-35aa-4965-8967-6a2184113ff3",
   "metadata": {},
   "outputs": [
    {
     "name": "stdout",
     "output_type": "stream",
     "text": [
      "https://tile.loc.gov/streaming-services/iiif/media:ammem:SpanishAmericanWar:0020/full/full/0/full/default.m3u8\n",
      "https://tile.loc.gov/storage-services/media/ammem/SpanishAmericanWar/0020.mp4\n"
     ]
    }
   ],
   "source": [
    "print(link_mpeg)\n",
    "print(link_mp4)"
   ]
  },
  {
   "cell_type": "code",
   "execution_count": 11,
   "id": "c6f684d4-dc71-4189-a7c5-8d07ece1bdaf",
   "metadata": {},
   "outputs": [
    {
     "data": {
      "text/plain": [
       "'0020.mp4'"
      ]
     },
     "execution_count": 11,
     "metadata": {},
     "output_type": "execute_result"
    }
   ],
   "source": [
    "# obtain filename by splitting url and getting last string\n",
    "file_name = link_mp4.split('/')[-1]\n",
    "\n",
    "file_name"
   ]
  },
  {
   "cell_type": "code",
   "execution_count": 12,
   "id": "76d93a5a-96db-4e8f-be2e-ada4da7d82c0",
   "metadata": {},
   "outputs": [],
   "source": [
    "r = requests.get(link_mp4, stream=True)"
   ]
  },
  {
   "cell_type": "code",
   "execution_count": 13,
   "id": "94a29f7f-bc2a-4f1b-a4b3-6500fac9d529",
   "metadata": {},
   "outputs": [],
   "source": [
    "# save the video stream in chunks\n",
    "with open(file_name, 'wb') as video:\n",
    "    for chunk in r.iter_content(chunk_size=1024*1024):\n",
    "        if chunk:\n",
    "            video.write(chunk)"
   ]
  }
 ],
 "metadata": {
  "kernelspec": {
   "display_name": "Python 3 (ipykernel)",
   "language": "python",
   "name": "python3"
  },
  "language_info": {
   "codemirror_mode": {
    "name": "ipython",
    "version": 3
   },
   "file_extension": ".py",
   "mimetype": "text/x-python",
   "name": "python",
   "nbconvert_exporter": "python",
   "pygments_lexer": "ipython3",
   "version": "3.11.4"
  }
 },
 "nbformat": 4,
 "nbformat_minor": 5
}
