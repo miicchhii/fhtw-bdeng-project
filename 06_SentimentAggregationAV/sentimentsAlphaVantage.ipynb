{
 "cells": [
  {
   "cell_type": "markdown",
   "id": "de2adbe1-7964-4c7b-9c99-64e6d15662dd",
   "metadata": {},
   "source": [
    "# Spark Exercise\n",
    "\n",
    "Apache Spark is an excellent tool for data engineering projects due to its robust ability to process large-scale data efficiently through distributed computing. Spark's in-memory processing capabilities significantly enhance the speed of data operations, making it ideal for handling big data workloads. It supports various data sources and formats, offering versatility in data ingestion and transformation. Additionally, Spark's rich API supports multiple programming languages such as Python, Java, and Scala, catering to diverse developer preferences. Its ecosystem, which includes libraries for SQL, machine learning, and graph processing, provides a comprehensive suite for building complex data pipelines and analytics, making it a powerful and flexible choice for data engineering tasks."
   ]
  },
  {
   "cell_type": "markdown",
   "id": "531b1187-dab5-46ec-be83-556037eb7b20",
   "metadata": {},
   "source": [
    "Use Python, ```pyspark``` and ```pandas``` to explore Apache Spark RDD and DataFrame:"
   ]
  },
  {
   "cell_type": "markdown",
   "id": "70d57a83-9f00-4b12-861c-640f3187fd42",
   "metadata": {},
   "source": [
    "# Spark RDD\n",
    "\n",
    "Spark RDD (Resilient Distributed Dataset) is a fundamental data structure in Apache Spark that enables fault-tolerant, distributed processing of large datasets across multiple nodes in a cluster. Spark RDDs provide a higher-level abstraction for performing distributed data processing tasks, including both map (transformations) and reduce (aggregations) operations."
   ]
  },
  {
   "cell_type": "markdown",
   "id": "99852f03-87e2-403a-88e9-ca1770ac05da",
   "metadata": {},
   "source": [
    "## Import Necessary Libraries"
   ]
  },
  {
   "cell_type": "code",
   "id": "a307a318-4ffa-4b57-98bb-8f011ec7f6ae",
   "metadata": {
    "ExecuteTime": {
     "end_time": "2025-06-24T19:03:02.057300Z",
     "start_time": "2025-06-24T19:03:01.803727Z"
    }
   },
   "source": [
    "from pyspark import SparkContext\n",
    "from pyspark.sql import SparkSession\n",
    "from pyspark.sql.functions import avg"
   ],
   "outputs": [],
   "execution_count": 1
  },
  {
   "cell_type": "code",
   "id": "75fdeda4-ddd2-47f7-9f4c-7b1f1e2cc957",
   "metadata": {
    "ExecuteTime": {
     "end_time": "2025-06-24T19:03:02.353816Z",
     "start_time": "2025-06-24T19:03:02.060741Z"
    }
   },
   "source": [
    "import pandas as pd\n",
    "import json\n",
    "import csv"
   ],
   "outputs": [],
   "execution_count": 2
  },
  {
   "metadata": {
    "ExecuteTime": {
     "end_time": "2025-06-24T19:03:02.512822Z",
     "start_time": "2025-06-24T19:03:02.509864Z"
    }
   },
   "cell_type": "code",
   "source": [
    "# 📍 InfluxDB-Konfiguration\n",
    "INFLUXDB_URL = \"http://localhost:10896\"\n",
    "INFLUXDB_TOKEN = \"14iJvsBJKp37nLXjIZvE4RbAoEO2dNs1k0GvCbKuJUnF_ub4pSWWw80O739jabLPMD-XBzA72WSX9f-4FuDBQ==\"\n",
    "INFLUXDB_ORG = \"bdinf-org\"\n",
    "INFLUXDB_BUCKET = \"bdinf-bucket\"\n",
    "\n",
    "spark_master_url = \"spark://localhost:7077\""
   ],
   "id": "cd2e596308cc29d5",
   "outputs": [],
   "execution_count": 3
  },
  {
   "cell_type": "markdown",
   "id": "c0408145-2924-4059-8a85-dbd974095d81",
   "metadata": {},
   "source": [
    "## Spark Context and Session\n",
    "Initialize Spark Context and Spark Session"
   ]
  },
  {
   "cell_type": "code",
   "id": "76eb6765-6776-40d0-8d52-1e832fef01f4",
   "metadata": {
    "ExecuteTime": {
     "end_time": "2025-06-24T19:03:11.114407Z",
     "start_time": "2025-06-24T19:03:02.526969Z"
    }
   },
   "source": [
    "# 🧠 SparkSession mit MinIO S3-Kompatibilität\n",
    "\n",
    "spark = SparkSession.builder \\\n",
    "    .appName(\"Sentiment AlphaVantage\") \\\n",
    "    .master(spark_master_url) \\\n",
    "    .getOrCreate()"
   ],
   "outputs": [],
   "execution_count": 4
  },
  {
   "cell_type": "markdown",
   "id": "aa2597f6-b983-4042-8918-b7c30edba96b",
   "metadata": {},
   "source": [
    "## Load Data into RDD"
   ]
  },
  {
   "cell_type": "code",
   "id": "c7c42a59-a103-45fe-9ec0-d8d98b88de9e",
   "metadata": {
    "ExecuteTime": {
     "end_time": "2025-06-24T19:03:12.575109Z",
     "start_time": "2025-06-24T19:03:11.121297Z"
    }
   },
   "source": [
    "import os\n",
    "import json\n",
    "\n",
    "# Define the directory path\n",
    "data_dir = \"data\"\n",
    "\n",
    "# Initialize an empty list to hold all the combined data\n",
    "combined_data = []\n",
    "\n",
    "# Loop through all files in the directory\n",
    "for filename in os.listdir(data_dir):\n",
    "    if filename.endswith(\".json\"):\n",
    "        file_path = os.path.join(data_dir, filename)\n",
    "        with open(file_path, \"r\") as f:\n",
    "            try:\n",
    "                data = json.load(f)\n",
    "                combined_data += data\n",
    "            except json.JSONDecodeError:\n",
    "                print(f\"Error decoding {filename}, skipping.\")\n",
    "\n",
    "# `combined_data` now contains all data from the JSON files\n"
   ],
   "outputs": [],
   "execution_count": 5
  },
  {
   "cell_type": "code",
   "id": "deaf7757-8175-41fc-b085-5ee3c4e4cc51",
   "metadata": {
    "ExecuteTime": {
     "end_time": "2025-06-24T19:03:12.796526Z",
     "start_time": "2025-06-24T19:03:12.588315Z"
    }
   },
   "source": [
    "rdd = spark.sparkContext.parallelize(data)\n",
    "parsed_rdd = rdd.map(lambda x: json.loads(x))"
   ],
   "outputs": [],
   "execution_count": 6
  },
  {
   "cell_type": "code",
   "id": "f8ac558b-97aa-4705-8052-b81d73b74774",
   "metadata": {
    "ExecuteTime": {
     "end_time": "2025-06-24T19:03:12.820964Z",
     "start_time": "2025-06-24T19:03:12.816102Z"
    }
   },
   "source": [
    "print (type(parsed_rdd))"
   ],
   "outputs": [
    {
     "name": "stdout",
     "output_type": "stream",
     "text": [
      "<class 'pyspark.core.rdd.PipelinedRDD'>\n"
     ]
    }
   ],
   "execution_count": 7
  },
  {
   "cell_type": "markdown",
   "id": "6261385f-aba5-4063-9185-a1208f21bc14",
   "metadata": {},
   "source": [
    "## Map Operation\n",
    "\n",
    "Split data into individual parts and create key-value pairs"
   ]
  },
  {
   "cell_type": "code",
   "id": "3774b927-cb7d-4885-8970-864490e0e9a0",
   "metadata": {
    "ExecuteTime": {
     "end_time": "2025-06-24T19:03:12.850162Z",
     "start_time": "2025-06-24T19:03:12.844444Z"
    }
   },
   "source": [
    "mapped_rdd = rdd.flatMap(lambda row: [\n",
    "    (\n",
    "        (row['time_published'][:8], ts['ticker']),  # key: (date, ticker)\n",
    "        (\n",
    "            float(ts['ticker_sentiment_score']),            # sentiment\n",
    "            float(ts['relevance_score']),                   # relevance\n",
    "            1,                                              # count\n",
    "            float(ts['ticker_sentiment_score']) * float(ts['relevance_score'])  # sentiment * relevance\n",
    "        )\n",
    "    )\n",
    "    for ts in row.get('ticker_sentiment', [])\n",
    "    if ts.get('ticker') in ['AAPL', 'GOOG', 'BA', 'NVDA', 'O', 'TSLA']\n",
    "])"
   ],
   "outputs": [],
   "execution_count": 8
  },
  {
   "cell_type": "markdown",
   "id": "32251e9d-3f2a-4fc2-b9a4-ef5a1f94ea0c",
   "metadata": {},
   "source": [
    "## Reduce Operation\n",
    "\n",
    "Reduce your key-value pairs"
   ]
  },
  {
   "cell_type": "code",
   "id": "ef497dcd-5b23-491b-8e07-73a6fef923df",
   "metadata": {
    "ExecuteTime": {
     "end_time": "2025-06-24T19:03:12.932884Z",
     "start_time": "2025-06-24T19:03:12.862874Z"
    }
   },
   "source": [
    "#Reduce (sum up sentiment, relevance, count)\n",
    "reduced_rdd = mapped_rdd.reduceByKey(\n",
    "    lambda a, b: (\n",
    "        a[0] + b[0],  # sentiment sum\n",
    "        a[1] + b[1],  # relevance sum\n",
    "        a[2] + b[2],   # count\n",
    "        a[3] + b[3]   # sum of (sentiment * relevance)\n",
    "    )\n",
    ")\n",
    "\n",
    "#Compute Averages\n",
    "final_rdd = reduced_rdd.mapValues(lambda x: (\n",
    "    x[0] / x[2],  # avg sentiment\n",
    "    x[1] / x[2],   # avg relevance\n",
    "    x[3] / x[1] if x[1] != 0 else 0\n",
    "))\n",
    "\n"
   ],
   "outputs": [],
   "execution_count": 9
  },
  {
   "cell_type": "markdown",
   "id": "901c597c-a9a2-489f-9399-4be9a5af7e78",
   "metadata": {},
   "source": [
    "## Collect Results\n",
    "\n",
    "Because of lazy evaluation, the map-reduce operation is performed only now. Show what you calculated."
   ]
  },
  {
   "cell_type": "code",
   "id": "46ec9af1-eb46-40cd-9d58-352e70599d44",
   "metadata": {
    "ExecuteTime": {
     "end_time": "2025-06-24T19:03:17.936475Z",
     "start_time": "2025-06-24T19:03:12.956366Z"
    }
   },
   "source": [
    "# Convert to flat records: (ticker, date, avg_sentiment, avg_relevance)\n",
    "formatted_rdd = final_rdd.map(lambda x: (\n",
    "    x[0][1],  # ticker\n",
    "    x[0][0],  # date\n",
    "    x[1][0],  # avg sentiment\n",
    "    x[1][1],  # avg relevance\n",
    "    x[1][2]   # weighted sentiment\n",
    "))\n",
    "\n",
    "results = formatted_rdd.collect()\n",
    "\n",
    "# Print a few rows\n",
    "for row in results[:5]:\n",
    "    print(row)\n"
   ],
   "outputs": [
    {
     "name": "stdout",
     "output_type": "stream",
     "text": [
      "('TSLA', '20240101', 0.1386548888888889, 0.30515118518518525, 0.16829684563644345)\n",
      "('NVDA', '20240101', 0.13826683333333334, 0.21665333333333334, 0.17901616261385314)\n",
      "('AAPL', '20240101', 0.11652124999999999, 0.1639755, 0.10827320539348866)\n",
      "('GOOG', '20240101', 0.1681516, 0.0798712, 0.1827066531891345)\n",
      "('TSLA', '20240102', 0.1325961625, 0.33734429999999993, 0.17250432381538688)\n"
     ]
    }
   ],
   "execution_count": 10
  },
  {
   "cell_type": "markdown",
   "id": "c724a926-8e29-459f-96d0-51d202ff14cb",
   "metadata": {},
   "source": [
    "## Save Results"
   ]
  },
  {
   "cell_type": "code",
   "id": "19db77f4-03a1-446e-9b24-4193fc55fb00",
   "metadata": {
    "ExecuteTime": {
     "end_time": "2025-06-24T19:03:17.957707Z",
     "start_time": "2025-06-24T19:03:17.945182Z"
    }
   },
   "source": [
    "import csv\n",
    "\n",
    "# Prepare your data: list of dicts with all 5 fields\n",
    "csv_data = [\n",
    "    {\n",
    "        \"ticker\": t,\n",
    "        \"date\": d,\n",
    "        \"avg_sentiment\": s,\n",
    "        \"avg_relevance\": r,\n",
    "        \"weighted_sentiment\": w\n",
    "    }\n",
    "    for t, d, s, r, w in results\n",
    "]\n",
    "\n",
    "# Define output path\n",
    "output_csv_path = \"output/ticker_by_day_sentiment_av.csv\"\n",
    "\n",
    "# Write to CSV\n",
    "with open(output_csv_path, \"w\", newline=\"\") as f:\n",
    "    writer = csv.DictWriter(f, fieldnames=[\"ticker\", \"date\", \"avg_sentiment\", \"avg_relevance\", \"weighted_sentiment\"])\n",
    "    writer.writeheader()\n",
    "    writer.writerows(csv_data)\n"
   ],
   "outputs": [],
   "execution_count": 11
  },
  {
   "metadata": {},
   "cell_type": "markdown",
   "source": "### Convert RDD to Spark DataFrame",
   "id": "7149bf49962040c"
  },
  {
   "metadata": {
    "ExecuteTime": {
     "end_time": "2025-06-24T19:03:19.119239Z",
     "start_time": "2025-06-24T19:03:17.972806Z"
    }
   },
   "cell_type": "code",
   "source": [
    "\n",
    "# Define schema for DataFrame\n",
    "from pyspark.sql.types import StructType, StructField, StringType, FloatType\n",
    "\n",
    "schema = StructType([\n",
    "    StructField(\"ticker\", StringType(), True),\n",
    "    StructField(\"date\", StringType(), True),\n",
    "    StructField(\"avg_sentiment\", FloatType(), True),\n",
    "    StructField(\"avg_relevance\", FloatType(), True),\n",
    "    StructField(\"weighted_sentiment\", FloatType(), True)\n",
    "])\n",
    "\n",
    "# Create DataFrame\n",
    "df = spark.createDataFrame(formatted_rdd, schema)\n"
   ],
   "id": "7479251787f199e1",
   "outputs": [],
   "execution_count": 12
  },
  {
   "metadata": {
    "ExecuteTime": {
     "end_time": "2025-06-24T19:03:20.846469Z",
     "start_time": "2025-06-24T19:03:19.148244Z"
    }
   },
   "cell_type": "code",
   "source": "summary_df = df.toPandas()",
   "id": "5f059e69e9cfd43b",
   "outputs": [],
   "execution_count": 13
  },
  {
   "metadata": {},
   "cell_type": "markdown",
   "source": "### Store results in InfluxDB\n",
   "id": "8b5eb701aca9a8b7"
  },
  {
   "metadata": {
    "ExecuteTime": {
     "end_time": "2025-06-24T19:04:49.075208Z",
     "start_time": "2025-06-24T19:03:20.872004Z"
    }
   },
   "cell_type": "code",
   "source": [
    "from influxdb_client import InfluxDBClient, Point, WritePrecision\n",
    "from influxdb_client.client.write_api import SYNCHRONOUS\n",
    "import pandas as pd\n",
    "\n",
    "# InfluxDB setup\n",
    "influx_client = InfluxDBClient(\n",
    "    url=INFLUXDB_URL,\n",
    "    token=INFLUXDB_TOKEN,\n",
    "    org=INFLUXDB_ORG\n",
    ")\n",
    "write_api = influx_client.write_api(write_options=SYNCHRONOUS)\n",
    "\n",
    "# Write each row to Influx\n",
    "for _, row in summary_df.iterrows():\n",
    "    point = (\n",
    "        Point(\"sentiment_alphavantage\")\n",
    "        .tag(\"ticker\", row[\"ticker\"])\n",
    "        .tag(\"aggregation\", \"daily\")\n",
    "        .field(\"avg_sentiment\", row[\"avg_sentiment\"])\n",
    "        .field(\"avg_relevance\", row[\"avg_relevance\"])\n",
    "        .field(\"weighted_sentiment\", row[\"weighted_sentiment\"])\n",
    "        .time(pd.to_datetime(row[\"date\"]), WritePrecision.S)\n",
    "    )\n",
    "    write_api.write(bucket=INFLUXDB_BUCKET, org=INFLUXDB_ORG, record=point)\n",
    "\n",
    "print(\"✅ All sentiment points written to InfluxDB.\")"
   ],
   "id": "7aed8ce9fc063061",
   "outputs": [
    {
     "name": "stdout",
     "output_type": "stream",
     "text": [
      "✅ All sentiment points written to InfluxDB.\n"
     ]
    }
   ],
   "execution_count": 14
  },
  {
   "cell_type": "code",
   "id": "467981e5-9c6b-4166-b418-61e3ce3f50b1",
   "metadata": {
    "ExecuteTime": {
     "end_time": "2025-06-24T19:04:49.850340Z",
     "start_time": "2025-06-24T19:04:49.094112Z"
    }
   },
   "source": [
    "spark.stop()\n"
   ],
   "outputs": [],
   "execution_count": 15
  }
 ],
 "metadata": {
  "kernelspec": {
   "display_name": "Python 3 (ipykernel)",
   "language": "python",
   "name": "python3"
  },
  "language_info": {
   "codemirror_mode": {
    "name": "ipython",
    "version": 3
   },
   "file_extension": ".py",
   "mimetype": "text/x-python",
   "name": "python",
   "nbconvert_exporter": "python",
   "pygments_lexer": "ipython3",
   "version": "3.11.13"
  }
 },
 "nbformat": 4,
 "nbformat_minor": 5
}
